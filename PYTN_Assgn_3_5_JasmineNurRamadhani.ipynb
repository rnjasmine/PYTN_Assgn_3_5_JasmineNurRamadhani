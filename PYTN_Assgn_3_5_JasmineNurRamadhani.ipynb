{
 "cells": [
  {
   "cell_type": "markdown",
   "metadata": {},
   "source": [
    "# Assignment 3 - Client's product (bank term deposit) subscribtions based on marketing campaigns dataset\n",
    "\n",
    "\n",
    "Nama            :   Jasmine Nur Ramadhani\n",
    "\n",
    "Kelas           :   PYTN-KS20\n",
    "\n",
    "Kode Peserta    :   PYTN-KS20-016\n",
    "\n",
    "Program         :   Hactiv8 - Introduction to Python for Data Science\n"
   ]
  },
  {
   "cell_type": "markdown",
   "metadata": {},
   "source": [
    "## Dataset information\n",
    "\n",
    "Source: https://archive.ics.uci.edu/dataset/222/bank+marketing\n",
    "\n",
    "The data is related with direct marketing campaigns of a Portuguese banking institution. The marketing campaigns were based on phone calls. Often, more than one contact to the same client was required, in order to access if the product (bank term deposit) would be ('yes') or not ('no') subscribed. \n",
    "\n",
    "There are four datasets:\n",
    "\n",
    "- bank-additional-full.csv with all examples (41188) and 20 inputs, ordered by date (from May 2008 to November 2010).\n",
    "- bank-additional.csv with 10% of the examples (4119), randomly selected from, and 20 inputs.\n",
    "- bank-full.csv with all examples and 17 inputs, ordered by date (older version of this dataset with less inputs).\n",
    "- bank.csv with 10% of the examples and 17 inputs, randomly selected from 3 (older version of this dataset with less inputs).\n",
    "\n",
    "The smallest datasets are provided to test more computationally demanding machine learning algorithms (e.g., SVM). \n",
    "\n",
    "The classification goal is to predict if the client will subscribe (yes/no) a term deposit (variable y).\n",
    "\n",
    "- Input variables:\n",
    "  - bank client data:\n",
    "   1. age (numeric)\n",
    "   2. job : type of job (categorical: \"admin.\",\"unknown\",\"unemployed\",\"management\",\"housemaid\",\"entrepreneur\",\"student\",\n",
    "                                       \"blue-collar\",\"self-employed\",\"retired\",\"technician\",\"services\") \n",
    "   3. marital : marital status (categorical: \"married\",\"divorced\",\"single\"; note: \"divorced\" means divorced or widowed)\n",
    "   4. education (categorical: \"unknown\",\"secondary\",\"primary\",\"tertiary\")\n",
    "   5. default: has credit in default? (binary: \"yes\",\"no\")\n",
    "   6. housing: has housing loan? (binary: \"yes\",\"no\")\n",
    "   7. loan: has personal loan? (binary: \"yes\",\"no\")\n",
    "\n",
    "  - related with the last contact of the current campaign:\n",
    "   8. contact: contact communication type (categorical: \"unknown\",\"telephone\",\"cellular\") \n",
    "   9. day: last contact day of the month (numeric)\n",
    "  10. month: last contact month of year (categorical: \"jan\", \"feb\", \"mar\", ..., \"nov\", \"dec\")\n",
    "  11. duration: last contact duration, in seconds (numeric)\n",
    "\n",
    "  - other attributes:\n",
    "  12. campaign: number of contacts performed during this campaign and for this client (numeric, includes last contact)\n",
    "  13. pdays: number of days that passed by after the client was last contacted from a previous campaign (numeric, -1 means client was not previously contacted)\n",
    "  14. previous: number of contacts performed before this campaign and for this client (numeric)\n",
    "  15. poutcome: outcome of the previous marketing campaign (categorical: \"unknown\",\"other\",\"failure\",\"success\")\n",
    "  \n",
    "  - social and economic context attributes\n",
    "  16. emp.var.rate: employment variation rate - quarterly indicator (numeric)\n",
    "  17. cons.price.idx: consumer price index - monthly indicator (numeric)\n",
    "  18. cons.conf.idx: consumer confidence index - monthly indicator (numeric)\n",
    "  19. euribor3m: euribor 3 month rate - daily indicator (numeric)\n",
    "  20. nr.employed: number of employees - quarterly indicator (numeric)\n",
    "  - Output variable (desired target):\n",
    "  21. y - has the client subscribed a term deposit? (binary: \"yes\",\"no\")"
   ]
  },
  {
   "cell_type": "markdown",
   "metadata": {},
   "source": [
    "## About Project\n",
    "\n",
    "Tujuan dari project adalah untuk memilih algoritma terbaik dari 6 algoritma, yaitu Logistic Regression, K-Nearest Neighbors (KNN), Support Vector Machine (SVM), Decision Tree, Random Forest, Naive Bayes.\n",
    "\n",
    "Data yang digunakan dalam project ini adalah:\n",
    "- Dataset `bank-additional-full.csv` yang akan digunakan untuk ekplorasi data dan final model training setelah algoritma terpilih.\n",
    "- Dataset `bank-additional.csv` yang akan digunakan untuk model training dan evaluasi model."
   ]
  },
  {
   "cell_type": "markdown",
   "metadata": {},
   "source": [
    "# Import Library"
   ]
  },
  {
   "cell_type": "code",
   "execution_count": 1,
   "metadata": {},
   "outputs": [],
   "source": [
    "import numpy as np\n",
    "import pandas as pd\n",
    "import seaborn as sns\n",
    "import matplotlib.pyplot as plt\n",
    "\n",
    "from sklearn.linear_model import LogisticRegression\n",
    "from sklearn.model_selection import train_test_split\n",
    "from sklearn.preprocessing import StandardScaler\n",
    "from sklearn.utils import resample\n",
    "from sklearn.neighbors import KNeighborsClassifier\n",
    "from sklearn.naive_bayes import GaussianNB\n",
    "from sklearn.ensemble import RandomForestClassifier\n",
    "from sklearn.model_selection import GridSearchCV\n",
    "from sklearn.tree import DecisionTreeClassifier\n",
    "from sklearn.svm import SVC\n",
    "from sklearn.utils import resample\n",
    "from sklearn.metrics import accuracy_score, precision_score, recall_score, f1_score, confusion_matrix, classification_report\n",
    "from sklearn.preprocessing import LabelEncoder\n",
    "\n",
    "from imblearn.under_sampling import RandomUnderSampler as RUS\n",
    "from imblearn.pipeline import make_pipeline\n",
    "from imblearn.over_sampling import RandomOverSampler\n",
    "\n",
    "%matplotlib inline\n",
    "\n",
    "import warnings\n",
    "warnings.filterwarnings('ignore')"
   ]
  },
  {
   "cell_type": "markdown",
   "metadata": {},
   "source": [
    "# Data Loading and Detail of Dataset"
   ]
  },
  {
   "cell_type": "code",
   "execution_count": 2,
   "metadata": {},
   "outputs": [
    {
     "name": "stdout",
     "output_type": "stream",
     "text": [
      "Jumlah sample data df1 (full):  41188\n",
      "Jumlah sample data df2 (part):  4119\n"
     ]
    }
   ],
   "source": [
    "# Memanggil dataset\n",
    "df1 = pd.read_csv(\"dataset/bank-additional-full.csv\")    # for initial exploration and final training\n",
    "df2 = pd.read_csv(\"dataset/bank-additional.csv\")    # for model training and evaluating model\n",
    "\n",
    "print (\"Jumlah sample data df1 (full): \",len(df1))\n",
    "print (\"Jumlah sample data df2 (part): \",len(df2))"
   ]
  },
  {
   "cell_type": "code",
   "execution_count": 3,
   "metadata": {},
   "outputs": [
    {
     "name": "stdout",
     "output_type": "stream",
     "text": [
      "Baris df1:  41188\n",
      "Kolom df1:  21\n",
      "==========\n",
      "Baris df2:  4119\n",
      "Kolom df2:  21\n"
     ]
    }
   ],
   "source": [
    "# Mengetahui jumlah baris dan kolom \n",
    "print(\"Baris df1: \", df1.shape[0])  # ukuran baris\n",
    "print(\"Kolom df1: \", df1.shape[1])  # ukuran kolom\n",
    "print(\"==========\")\n",
    "print(\"Baris df2: \", df2.shape[0])  # ukuran baris\n",
    "print(\"Kolom df2: \", df2.shape[1])  # ukuran kolom"
   ]
  },
  {
   "cell_type": "code",
   "execution_count": 4,
   "metadata": {},
   "outputs": [
    {
     "name": "stdout",
     "output_type": "stream",
     "text": [
      "Dataset berdimensi:  2\n"
     ]
    }
   ],
   "source": [
    "# Untuk mengetahui dimensi \n",
    "print(\"Dataset berdimensi: \", df1.ndim)"
   ]
  },
  {
   "cell_type": "code",
   "execution_count": 5,
   "metadata": {},
   "outputs": [
    {
     "data": {
      "text/html": [
       "<div>\n",
       "<style scoped>\n",
       "    .dataframe tbody tr th:only-of-type {\n",
       "        vertical-align: middle;\n",
       "    }\n",
       "\n",
       "    .dataframe tbody tr th {\n",
       "        vertical-align: top;\n",
       "    }\n",
       "\n",
       "    .dataframe thead th {\n",
       "        text-align: right;\n",
       "    }\n",
       "</style>\n",
       "<table border=\"1\" class=\"dataframe\">\n",
       "  <thead>\n",
       "    <tr style=\"text-align: right;\">\n",
       "      <th></th>\n",
       "      <th>age</th>\n",
       "      <th>job</th>\n",
       "      <th>marital</th>\n",
       "      <th>education</th>\n",
       "      <th>default</th>\n",
       "      <th>housing</th>\n",
       "      <th>loan</th>\n",
       "      <th>contact</th>\n",
       "      <th>month</th>\n",
       "      <th>day_of_week</th>\n",
       "      <th>duration</th>\n",
       "      <th>campaign</th>\n",
       "      <th>pdays</th>\n",
       "      <th>previous</th>\n",
       "      <th>poutcome</th>\n",
       "      <th>emp.var.rate</th>\n",
       "      <th>cons.price.idx</th>\n",
       "      <th>cons.conf.idx</th>\n",
       "      <th>euribor3m</th>\n",
       "      <th>nr.employed</th>\n",
       "      <th>y</th>\n",
       "    </tr>\n",
       "  </thead>\n",
       "  <tbody>\n",
       "    <tr>\n",
       "      <th>0</th>\n",
       "      <td>56</td>\n",
       "      <td>housemaid</td>\n",
       "      <td>married</td>\n",
       "      <td>basic.4y</td>\n",
       "      <td>no</td>\n",
       "      <td>no</td>\n",
       "      <td>no</td>\n",
       "      <td>telephone</td>\n",
       "      <td>may</td>\n",
       "      <td>mon</td>\n",
       "      <td>261</td>\n",
       "      <td>1</td>\n",
       "      <td>999</td>\n",
       "      <td>0</td>\n",
       "      <td>nonexistent</td>\n",
       "      <td>1.1</td>\n",
       "      <td>93.994</td>\n",
       "      <td>-36.4</td>\n",
       "      <td>4.857</td>\n",
       "      <td>5191.0</td>\n",
       "      <td>no</td>\n",
       "    </tr>\n",
       "    <tr>\n",
       "      <th>1</th>\n",
       "      <td>57</td>\n",
       "      <td>services</td>\n",
       "      <td>married</td>\n",
       "      <td>high.school</td>\n",
       "      <td>unknown</td>\n",
       "      <td>no</td>\n",
       "      <td>no</td>\n",
       "      <td>telephone</td>\n",
       "      <td>may</td>\n",
       "      <td>mon</td>\n",
       "      <td>149</td>\n",
       "      <td>1</td>\n",
       "      <td>999</td>\n",
       "      <td>0</td>\n",
       "      <td>nonexistent</td>\n",
       "      <td>1.1</td>\n",
       "      <td>93.994</td>\n",
       "      <td>-36.4</td>\n",
       "      <td>4.857</td>\n",
       "      <td>5191.0</td>\n",
       "      <td>no</td>\n",
       "    </tr>\n",
       "    <tr>\n",
       "      <th>2</th>\n",
       "      <td>37</td>\n",
       "      <td>services</td>\n",
       "      <td>married</td>\n",
       "      <td>high.school</td>\n",
       "      <td>no</td>\n",
       "      <td>yes</td>\n",
       "      <td>no</td>\n",
       "      <td>telephone</td>\n",
       "      <td>may</td>\n",
       "      <td>mon</td>\n",
       "      <td>226</td>\n",
       "      <td>1</td>\n",
       "      <td>999</td>\n",
       "      <td>0</td>\n",
       "      <td>nonexistent</td>\n",
       "      <td>1.1</td>\n",
       "      <td>93.994</td>\n",
       "      <td>-36.4</td>\n",
       "      <td>4.857</td>\n",
       "      <td>5191.0</td>\n",
       "      <td>no</td>\n",
       "    </tr>\n",
       "    <tr>\n",
       "      <th>3</th>\n",
       "      <td>40</td>\n",
       "      <td>admin.</td>\n",
       "      <td>married</td>\n",
       "      <td>basic.6y</td>\n",
       "      <td>no</td>\n",
       "      <td>no</td>\n",
       "      <td>no</td>\n",
       "      <td>telephone</td>\n",
       "      <td>may</td>\n",
       "      <td>mon</td>\n",
       "      <td>151</td>\n",
       "      <td>1</td>\n",
       "      <td>999</td>\n",
       "      <td>0</td>\n",
       "      <td>nonexistent</td>\n",
       "      <td>1.1</td>\n",
       "      <td>93.994</td>\n",
       "      <td>-36.4</td>\n",
       "      <td>4.857</td>\n",
       "      <td>5191.0</td>\n",
       "      <td>no</td>\n",
       "    </tr>\n",
       "    <tr>\n",
       "      <th>4</th>\n",
       "      <td>56</td>\n",
       "      <td>services</td>\n",
       "      <td>married</td>\n",
       "      <td>high.school</td>\n",
       "      <td>no</td>\n",
       "      <td>no</td>\n",
       "      <td>yes</td>\n",
       "      <td>telephone</td>\n",
       "      <td>may</td>\n",
       "      <td>mon</td>\n",
       "      <td>307</td>\n",
       "      <td>1</td>\n",
       "      <td>999</td>\n",
       "      <td>0</td>\n",
       "      <td>nonexistent</td>\n",
       "      <td>1.1</td>\n",
       "      <td>93.994</td>\n",
       "      <td>-36.4</td>\n",
       "      <td>4.857</td>\n",
       "      <td>5191.0</td>\n",
       "      <td>no</td>\n",
       "    </tr>\n",
       "  </tbody>\n",
       "</table>\n",
       "</div>"
      ],
      "text/plain": [
       "   age        job  marital    education  default housing loan    contact  \\\n",
       "0   56  housemaid  married     basic.4y       no      no   no  telephone   \n",
       "1   57   services  married  high.school  unknown      no   no  telephone   \n",
       "2   37   services  married  high.school       no     yes   no  telephone   \n",
       "3   40     admin.  married     basic.6y       no      no   no  telephone   \n",
       "4   56   services  married  high.school       no      no  yes  telephone   \n",
       "\n",
       "  month day_of_week  duration  campaign  pdays  previous     poutcome  \\\n",
       "0   may         mon       261         1    999         0  nonexistent   \n",
       "1   may         mon       149         1    999         0  nonexistent   \n",
       "2   may         mon       226         1    999         0  nonexistent   \n",
       "3   may         mon       151         1    999         0  nonexistent   \n",
       "4   may         mon       307         1    999         0  nonexistent   \n",
       "\n",
       "   emp.var.rate  cons.price.idx  cons.conf.idx  euribor3m  nr.employed   y  \n",
       "0           1.1          93.994          -36.4      4.857       5191.0  no  \n",
       "1           1.1          93.994          -36.4      4.857       5191.0  no  \n",
       "2           1.1          93.994          -36.4      4.857       5191.0  no  \n",
       "3           1.1          93.994          -36.4      4.857       5191.0  no  \n",
       "4           1.1          93.994          -36.4      4.857       5191.0  no  "
      ]
     },
     "execution_count": 5,
     "metadata": {},
     "output_type": "execute_result"
    }
   ],
   "source": [
    "# Menampilkan 5 baris teratas dengan .head()\n",
    "pd.set_option(\"display.max.columns\", None)     # Displaying maximum column\n",
    "df1.head()"
   ]
  },
  {
   "cell_type": "code",
   "execution_count": 6,
   "metadata": {},
   "outputs": [
    {
     "data": {
      "text/html": [
       "<div>\n",
       "<style scoped>\n",
       "    .dataframe tbody tr th:only-of-type {\n",
       "        vertical-align: middle;\n",
       "    }\n",
       "\n",
       "    .dataframe tbody tr th {\n",
       "        vertical-align: top;\n",
       "    }\n",
       "\n",
       "    .dataframe thead th {\n",
       "        text-align: right;\n",
       "    }\n",
       "</style>\n",
       "<table border=\"1\" class=\"dataframe\">\n",
       "  <thead>\n",
       "    <tr style=\"text-align: right;\">\n",
       "      <th></th>\n",
       "      <th>age</th>\n",
       "      <th>job</th>\n",
       "      <th>marital</th>\n",
       "      <th>education</th>\n",
       "      <th>default</th>\n",
       "      <th>housing</th>\n",
       "      <th>loan</th>\n",
       "      <th>contact</th>\n",
       "      <th>month</th>\n",
       "      <th>day_of_week</th>\n",
       "      <th>duration</th>\n",
       "      <th>campaign</th>\n",
       "      <th>pdays</th>\n",
       "      <th>previous</th>\n",
       "      <th>poutcome</th>\n",
       "      <th>emp.var.rate</th>\n",
       "      <th>cons.price.idx</th>\n",
       "      <th>cons.conf.idx</th>\n",
       "      <th>euribor3m</th>\n",
       "      <th>nr.employed</th>\n",
       "      <th>y</th>\n",
       "    </tr>\n",
       "  </thead>\n",
       "  <tbody>\n",
       "    <tr>\n",
       "      <th>41183</th>\n",
       "      <td>73</td>\n",
       "      <td>retired</td>\n",
       "      <td>married</td>\n",
       "      <td>professional.course</td>\n",
       "      <td>no</td>\n",
       "      <td>yes</td>\n",
       "      <td>no</td>\n",
       "      <td>cellular</td>\n",
       "      <td>nov</td>\n",
       "      <td>fri</td>\n",
       "      <td>334</td>\n",
       "      <td>1</td>\n",
       "      <td>999</td>\n",
       "      <td>0</td>\n",
       "      <td>nonexistent</td>\n",
       "      <td>-1.1</td>\n",
       "      <td>94.767</td>\n",
       "      <td>-50.8</td>\n",
       "      <td>1.028</td>\n",
       "      <td>4963.6</td>\n",
       "      <td>yes</td>\n",
       "    </tr>\n",
       "    <tr>\n",
       "      <th>41184</th>\n",
       "      <td>46</td>\n",
       "      <td>blue-collar</td>\n",
       "      <td>married</td>\n",
       "      <td>professional.course</td>\n",
       "      <td>no</td>\n",
       "      <td>no</td>\n",
       "      <td>no</td>\n",
       "      <td>cellular</td>\n",
       "      <td>nov</td>\n",
       "      <td>fri</td>\n",
       "      <td>383</td>\n",
       "      <td>1</td>\n",
       "      <td>999</td>\n",
       "      <td>0</td>\n",
       "      <td>nonexistent</td>\n",
       "      <td>-1.1</td>\n",
       "      <td>94.767</td>\n",
       "      <td>-50.8</td>\n",
       "      <td>1.028</td>\n",
       "      <td>4963.6</td>\n",
       "      <td>no</td>\n",
       "    </tr>\n",
       "    <tr>\n",
       "      <th>41185</th>\n",
       "      <td>56</td>\n",
       "      <td>retired</td>\n",
       "      <td>married</td>\n",
       "      <td>university.degree</td>\n",
       "      <td>no</td>\n",
       "      <td>yes</td>\n",
       "      <td>no</td>\n",
       "      <td>cellular</td>\n",
       "      <td>nov</td>\n",
       "      <td>fri</td>\n",
       "      <td>189</td>\n",
       "      <td>2</td>\n",
       "      <td>999</td>\n",
       "      <td>0</td>\n",
       "      <td>nonexistent</td>\n",
       "      <td>-1.1</td>\n",
       "      <td>94.767</td>\n",
       "      <td>-50.8</td>\n",
       "      <td>1.028</td>\n",
       "      <td>4963.6</td>\n",
       "      <td>no</td>\n",
       "    </tr>\n",
       "    <tr>\n",
       "      <th>41186</th>\n",
       "      <td>44</td>\n",
       "      <td>technician</td>\n",
       "      <td>married</td>\n",
       "      <td>professional.course</td>\n",
       "      <td>no</td>\n",
       "      <td>no</td>\n",
       "      <td>no</td>\n",
       "      <td>cellular</td>\n",
       "      <td>nov</td>\n",
       "      <td>fri</td>\n",
       "      <td>442</td>\n",
       "      <td>1</td>\n",
       "      <td>999</td>\n",
       "      <td>0</td>\n",
       "      <td>nonexistent</td>\n",
       "      <td>-1.1</td>\n",
       "      <td>94.767</td>\n",
       "      <td>-50.8</td>\n",
       "      <td>1.028</td>\n",
       "      <td>4963.6</td>\n",
       "      <td>yes</td>\n",
       "    </tr>\n",
       "    <tr>\n",
       "      <th>41187</th>\n",
       "      <td>74</td>\n",
       "      <td>retired</td>\n",
       "      <td>married</td>\n",
       "      <td>professional.course</td>\n",
       "      <td>no</td>\n",
       "      <td>yes</td>\n",
       "      <td>no</td>\n",
       "      <td>cellular</td>\n",
       "      <td>nov</td>\n",
       "      <td>fri</td>\n",
       "      <td>239</td>\n",
       "      <td>3</td>\n",
       "      <td>999</td>\n",
       "      <td>1</td>\n",
       "      <td>failure</td>\n",
       "      <td>-1.1</td>\n",
       "      <td>94.767</td>\n",
       "      <td>-50.8</td>\n",
       "      <td>1.028</td>\n",
       "      <td>4963.6</td>\n",
       "      <td>no</td>\n",
       "    </tr>\n",
       "  </tbody>\n",
       "</table>\n",
       "</div>"
      ],
      "text/plain": [
       "       age          job  marital            education default housing loan  \\\n",
       "41183   73      retired  married  professional.course      no     yes   no   \n",
       "41184   46  blue-collar  married  professional.course      no      no   no   \n",
       "41185   56      retired  married    university.degree      no     yes   no   \n",
       "41186   44   technician  married  professional.course      no      no   no   \n",
       "41187   74      retired  married  professional.course      no     yes   no   \n",
       "\n",
       "        contact month day_of_week  duration  campaign  pdays  previous  \\\n",
       "41183  cellular   nov         fri       334         1    999         0   \n",
       "41184  cellular   nov         fri       383         1    999         0   \n",
       "41185  cellular   nov         fri       189         2    999         0   \n",
       "41186  cellular   nov         fri       442         1    999         0   \n",
       "41187  cellular   nov         fri       239         3    999         1   \n",
       "\n",
       "          poutcome  emp.var.rate  cons.price.idx  cons.conf.idx  euribor3m  \\\n",
       "41183  nonexistent          -1.1          94.767          -50.8      1.028   \n",
       "41184  nonexistent          -1.1          94.767          -50.8      1.028   \n",
       "41185  nonexistent          -1.1          94.767          -50.8      1.028   \n",
       "41186  nonexistent          -1.1          94.767          -50.8      1.028   \n",
       "41187      failure          -1.1          94.767          -50.8      1.028   \n",
       "\n",
       "       nr.employed    y  \n",
       "41183       4963.6  yes  \n",
       "41184       4963.6   no  \n",
       "41185       4963.6   no  \n",
       "41186       4963.6  yes  \n",
       "41187       4963.6   no  "
      ]
     },
     "execution_count": 6,
     "metadata": {},
     "output_type": "execute_result"
    }
   ],
   "source": [
    "# Menampilkan 5 baris terbawah\n",
    "df1.tail()"
   ]
  },
  {
   "cell_type": "code",
   "execution_count": 7,
   "metadata": {},
   "outputs": [
    {
     "data": {
      "text/plain": [
       "Index(['age', 'job', 'marital', 'education', 'default', 'housing', 'loan',\n",
       "       'contact', 'month', 'day_of_week', 'duration', 'campaign', 'pdays',\n",
       "       'previous', 'poutcome', 'emp.var.rate', 'cons.price.idx',\n",
       "       'cons.conf.idx', 'euribor3m', 'nr.employed', 'y'],\n",
       "      dtype='object')"
      ]
     },
     "execution_count": 7,
     "metadata": {},
     "output_type": "execute_result"
    }
   ],
   "source": [
    "# Mengembalikan label setiap kolom dari dataframe\n",
    "df1.columns"
   ]
  },
  {
   "cell_type": "code",
   "execution_count": 8,
   "metadata": {},
   "outputs": [
    {
     "name": "stdout",
     "output_type": "stream",
     "text": [
      "<class 'pandas.core.frame.DataFrame'>\n",
      "RangeIndex: 41188 entries, 0 to 41187\n",
      "Data columns (total 21 columns):\n",
      " #   Column          Non-Null Count  Dtype  \n",
      "---  ------          --------------  -----  \n",
      " 0   age             41188 non-null  int64  \n",
      " 1   job             41188 non-null  object \n",
      " 2   marital         41188 non-null  object \n",
      " 3   education       41188 non-null  object \n",
      " 4   default         41188 non-null  object \n",
      " 5   housing         41188 non-null  object \n",
      " 6   loan            41188 non-null  object \n",
      " 7   contact         41188 non-null  object \n",
      " 8   month           41188 non-null  object \n",
      " 9   day_of_week     41188 non-null  object \n",
      " 10  duration        41188 non-null  int64  \n",
      " 11  campaign        41188 non-null  int64  \n",
      " 12  pdays           41188 non-null  int64  \n",
      " 13  previous        41188 non-null  int64  \n",
      " 14  poutcome        41188 non-null  object \n",
      " 15  emp.var.rate    41188 non-null  float64\n",
      " 16  cons.price.idx  41188 non-null  float64\n",
      " 17  cons.conf.idx   41188 non-null  float64\n",
      " 18  euribor3m       41188 non-null  float64\n",
      " 19  nr.employed     41188 non-null  float64\n",
      " 20  y               41188 non-null  object \n",
      "dtypes: float64(5), int64(5), object(11)\n",
      "memory usage: 6.6+ MB\n"
     ]
    }
   ],
   "source": [
    "df1.info()"
   ]
  },
  {
   "cell_type": "markdown",
   "metadata": {},
   "source": [
    "Didapatkan informasi bahwa dataset memiliki 21 fitur/kolom dan 41188 baris untuk df1 (full) dan memiliki 4119 baris untuk df2(part)."
   ]
  },
  {
   "cell_type": "markdown",
   "metadata": {},
   "source": [
    "# Data Cleaning"
   ]
  },
  {
   "cell_type": "markdown",
   "metadata": {},
   "source": [
    "## For df1 (full)"
   ]
  },
  {
   "cell_type": "code",
   "execution_count": 9,
   "metadata": {},
   "outputs": [
    {
     "data": {
      "text/plain": [
       "False"
      ]
     },
     "execution_count": 9,
     "metadata": {},
     "output_type": "execute_result"
    }
   ],
   "source": [
    "df1.isnull().values.any()"
   ]
  },
  {
   "cell_type": "markdown",
   "metadata": {},
   "source": [
    "tidak terdapat missing values"
   ]
  },
  {
   "cell_type": "code",
   "execution_count": 10,
   "metadata": {},
   "outputs": [
    {
     "name": "stdout",
     "output_type": "stream",
     "text": [
      "True\n",
      "12\n"
     ]
    }
   ],
   "source": [
    "print(df1.duplicated().values.any())\n",
    "print(df1.duplicated().sum())"
   ]
  },
  {
   "cell_type": "markdown",
   "metadata": {},
   "source": [
    "benar terdapat data duplikat dan berjumlah 12 maka akan di-drop salah satunya"
   ]
  },
  {
   "cell_type": "code",
   "execution_count": 11,
   "metadata": {},
   "outputs": [
    {
     "name": "stdout",
     "output_type": "stream",
     "text": [
      "Before dropping duplicates: (41188, 21)\n",
      "After dropping duplicates: (41176, 21)\n",
      "0\n"
     ]
    }
   ],
   "source": [
    "print(\"Before dropping duplicates:\", df1.shape)\n",
    "\n",
    "# Drop duplicates based on all columns\n",
    "df1 = df1.drop_duplicates(keep='first')\n",
    "\n",
    "# Display the shape of the DataFrame after dropping duplicates\n",
    "print(\"After dropping duplicates:\", df1.shape)\n",
    "print(df1.duplicated().sum())"
   ]
  },
  {
   "cell_type": "markdown",
   "metadata": {},
   "source": [
    "maka setelah proses dropping data duplikat dengan membiarkan data 'first' atau pertamanya, baris pada `df1` berkurang dari 41188 menjadi 41176."
   ]
  },
  {
   "cell_type": "markdown",
   "metadata": {},
   "source": [
    "## For df2 (part)"
   ]
  },
  {
   "cell_type": "code",
   "execution_count": 12,
   "metadata": {},
   "outputs": [
    {
     "data": {
      "text/plain": [
       "False"
      ]
     },
     "execution_count": 12,
     "metadata": {},
     "output_type": "execute_result"
    }
   ],
   "source": [
    "df2.isnull().values.any()"
   ]
  },
  {
   "cell_type": "code",
   "execution_count": 13,
   "metadata": {},
   "outputs": [
    {
     "name": "stdout",
     "output_type": "stream",
     "text": [
      "False\n",
      "0\n"
     ]
    }
   ],
   "source": [
    "print(df2.duplicated().values.any())\n",
    "print(df2.duplicated().sum())"
   ]
  },
  {
   "cell_type": "markdown",
   "metadata": {},
   "source": [
    "pada `df2` tidak terdapat missing value maupun data duplikat"
   ]
  },
  {
   "cell_type": "markdown",
   "metadata": {},
   "source": [
    "# Visualization"
   ]
  },
  {
   "cell_type": "code",
   "execution_count": 14,
   "metadata": {},
   "outputs": [
    {
     "data": {
      "text/plain": [
       "y\n",
       "no     36537\n",
       "yes     4639\n",
       "dtype: int64"
      ]
     },
     "execution_count": 14,
     "metadata": {},
     "output_type": "execute_result"
    }
   ],
   "source": [
    "# Menghitung jumlah yes dan no pada kolom y\n",
    "df1.groupby('y').size()"
   ]
  },
  {
   "cell_type": "code",
   "execution_count": 15,
   "metadata": {},
   "outputs": [
    {
     "data": {
      "image/png": "[encoded data removed]",
      "text/plain": [
       "<Figure size 400x400 with 1 Axes>"
      ]
     },
     "metadata": {},
     "output_type": "display_data"
    }
   ],
   "source": [
    "import matplotlib.pyplot as plt\n",
    "import seaborn as sns\n",
    "\n",
    "# Count the occurrences of each unique value in the 'y' column\n",
    "y_counts = df1['y'].value_counts()\n",
    "\n",
    "# Plotting a pie chart\n",
    "plt.figure(figsize=(4, 4))\n",
    "plt.pie(y_counts, labels=y_counts.index, autopct='%1.1f%%', colors=['lightcoral', 'lightblue'], startangle=90)\n",
    "plt.title('Percentage of Subscribed Term Deposits') # Adding a title\n",
    "plt.show()\n"
   ]
  },
  {
   "cell_type": "markdown",
   "metadata": {},
   "source": [
    "Berdasarkan visualisasi di atas, diketahui bahwa 11.3% (4639) memilih mengikuti deposito berjangka bank dan 88.7% (36537) lainnya memilih tidak mengikuti."
   ]
  },
  {
   "cell_type": "markdown",
   "metadata": {},
   "source": [
    "## Grouping Categorical and Numerical Features"
   ]
  },
  {
   "cell_type": "code",
   "execution_count": 16,
   "metadata": {},
   "outputs": [
    {
     "name": "stdout",
     "output_type": "stream",
     "text": [
      "Numbers of Categorical Features: 11\n",
      "Categorical Features:  ['job', 'marital', 'education', 'default', 'housing', 'loan', 'contact', 'month', 'day_of_week', 'poutcome', 'y']\n"
     ]
    }
   ],
   "source": [
    "categorical_ft = [column for column in df1.columns if df1[column].dtype == \"O\"]\n",
    "print(\"Numbers of Categorical Features: {}\".format(len(categorical_ft)))\n",
    "print(\"Categorical Features: \",categorical_ft)"
   ]
  },
  {
   "cell_type": "markdown",
   "metadata": {},
   "source": [
    "Ada sebanyak 11 fitur kategorikal, yaitu `'job', 'marital', 'education', 'default', 'housing', 'loan', 'contact', 'month', 'day_of_week', 'poutcome', 'y'`. \n",
    "\n",
    "Selanjutnya, kita akan melihat kardinalitas dari fitur-fitur kategorikal"
   ]
  },
  {
   "cell_type": "code",
   "execution_count": 17,
   "metadata": {},
   "outputs": [
    {
     "data": {
      "text/html": [
       "<div>\n",
       "<style scoped>\n",
       "    .dataframe tbody tr th:only-of-type {\n",
       "        vertical-align: middle;\n",
       "    }\n",
       "\n",
       "    .dataframe tbody tr th {\n",
       "        vertical-align: top;\n",
       "    }\n",
       "\n",
       "    .dataframe thead th {\n",
       "        text-align: right;\n",
       "    }\n",
       "</style>\n",
       "<table border=\"1\" class=\"dataframe\">\n",
       "  <thead>\n",
       "    <tr style=\"text-align: right;\">\n",
       "      <th></th>\n",
       "      <th>job</th>\n",
       "      <th>marital</th>\n",
       "      <th>education</th>\n",
       "      <th>default</th>\n",
       "      <th>housing</th>\n",
       "      <th>loan</th>\n",
       "      <th>contact</th>\n",
       "      <th>month</th>\n",
       "      <th>day_of_week</th>\n",
       "      <th>poutcome</th>\n",
       "      <th>y</th>\n",
       "    </tr>\n",
       "  </thead>\n",
       "  <tbody>\n",
       "    <tr>\n",
       "      <th>0</th>\n",
       "      <td>housemaid</td>\n",
       "      <td>married</td>\n",
       "      <td>basic.4y</td>\n",
       "      <td>no</td>\n",
       "      <td>no</td>\n",
       "      <td>no</td>\n",
       "      <td>telephone</td>\n",
       "      <td>may</td>\n",
       "      <td>mon</td>\n",
       "      <td>nonexistent</td>\n",
       "      <td>no</td>\n",
       "    </tr>\n",
       "    <tr>\n",
       "      <th>1</th>\n",
       "      <td>services</td>\n",
       "      <td>married</td>\n",
       "      <td>high.school</td>\n",
       "      <td>unknown</td>\n",
       "      <td>no</td>\n",
       "      <td>no</td>\n",
       "      <td>telephone</td>\n",
       "      <td>may</td>\n",
       "      <td>mon</td>\n",
       "      <td>nonexistent</td>\n",
       "      <td>no</td>\n",
       "    </tr>\n",
       "    <tr>\n",
       "      <th>2</th>\n",
       "      <td>services</td>\n",
       "      <td>married</td>\n",
       "      <td>high.school</td>\n",
       "      <td>no</td>\n",
       "      <td>yes</td>\n",
       "      <td>no</td>\n",
       "      <td>telephone</td>\n",
       "      <td>may</td>\n",
       "      <td>mon</td>\n",
       "      <td>nonexistent</td>\n",
       "      <td>no</td>\n",
       "    </tr>\n",
       "    <tr>\n",
       "      <th>3</th>\n",
       "      <td>admin.</td>\n",
       "      <td>married</td>\n",
       "      <td>basic.6y</td>\n",
       "      <td>no</td>\n",
       "      <td>no</td>\n",
       "      <td>no</td>\n",
       "      <td>telephone</td>\n",
       "      <td>may</td>\n",
       "      <td>mon</td>\n",
       "      <td>nonexistent</td>\n",
       "      <td>no</td>\n",
       "    </tr>\n",
       "    <tr>\n",
       "      <th>4</th>\n",
       "      <td>services</td>\n",
       "      <td>married</td>\n",
       "      <td>high.school</td>\n",
       "      <td>no</td>\n",
       "      <td>no</td>\n",
       "      <td>yes</td>\n",
       "      <td>telephone</td>\n",
       "      <td>may</td>\n",
       "      <td>mon</td>\n",
       "      <td>nonexistent</td>\n",
       "      <td>no</td>\n",
       "    </tr>\n",
       "  </tbody>\n",
       "</table>\n",
       "</div>"
      ],
      "text/plain": [
       "         job  marital    education  default housing loan    contact month  \\\n",
       "0  housemaid  married     basic.4y       no      no   no  telephone   may   \n",
       "1   services  married  high.school  unknown      no   no  telephone   may   \n",
       "2   services  married  high.school       no     yes   no  telephone   may   \n",
       "3     admin.  married     basic.6y       no      no   no  telephone   may   \n",
       "4   services  married  high.school       no      no  yes  telephone   may   \n",
       "\n",
       "  day_of_week     poutcome   y  \n",
       "0         mon  nonexistent  no  \n",
       "1         mon  nonexistent  no  \n",
       "2         mon  nonexistent  no  \n",
       "3         mon  nonexistent  no  \n",
       "4         mon  nonexistent  no  "
      ]
     },
     "execution_count": 17,
     "metadata": {},
     "output_type": "execute_result"
    }
   ],
   "source": [
    "df1[categorical_ft].head()"
   ]
  },
  {
   "cell_type": "code",
   "execution_count": 18,
   "metadata": {},
   "outputs": [
    {
     "name": "stdout",
     "output_type": "stream",
     "text": [
      "Number of Numerical Features: 10\n",
      "Numerical Features:  ['age', 'duration', 'campaign', 'pdays', 'previous', 'emp.var.rate', 'cons.price.idx', 'cons.conf.idx', 'euribor3m', 'nr.employed']\n"
     ]
    }
   ],
   "source": [
    "# Grouping untuk fitur-fitur dengan tipe data selain object\n",
    "numerical_ft = [column for column in df1.columns if df1[column].dtype != \"O\"]\n",
    "print(\"Number of Numerical Features: {}\".format(len(numerical_ft)))\n",
    "print(\"Numerical Features: \",numerical_ft)"
   ]
  },
  {
   "cell_type": "markdown",
   "metadata": {},
   "source": [
    "Ada sebanyak 10 fitur kategorikal, yaitu `'age', 'duration', 'campaign', 'pdays', 'previous', 'emp.var.rate', 'cons.price.idx', 'cons.conf.idx', 'euribor3m', 'nr.employed'`"
   ]
  },
  {
   "cell_type": "markdown",
   "metadata": {},
   "source": [
    "## Cardinality & Unique Values\n",
    "\n",
    "Selanjutnya akan dicek kardinalitas dan unique values dari fitur-fitur kategorikal"
   ]
  },
  {
   "cell_type": "code",
   "execution_count": 19,
   "metadata": {},
   "outputs": [
    {
     "name": "stdout",
     "output_type": "stream",
     "text": [
      "Cardinality of job are: 12\n",
      "Cardinality of marital are: 4\n",
      "Cardinality of education are: 8\n",
      "Cardinality of default are: 3\n",
      "Cardinality of housing are: 3\n",
      "Cardinality of loan are: 3\n",
      "Cardinality of contact are: 2\n",
      "Cardinality of month are: 10\n",
      "Cardinality of day_of_week are: 5\n",
      "Cardinality of poutcome are: 3\n",
      "Cardinality of y are: 2\n"
     ]
    }
   ],
   "source": [
    "for each_feature in categorical_ft:\n",
    "   unique_values = len(df1[each_feature].unique())\n",
    "   print(\"Cardinality of {} are: {}\".format(each_feature, unique_values))"
   ]
  },
  {
   "cell_type": "code",
   "execution_count": 20,
   "metadata": {},
   "outputs": [
    {
     "name": "stdout",
     "output_type": "stream",
     "text": [
      "Unique values for job: ['housemaid' 'services' 'admin.' 'blue-collar' 'technician' 'retired'\n",
      " 'management' 'unemployed' 'self-employed' 'unknown' 'entrepreneur'\n",
      " 'student']\n",
      "Unique values for marital: ['married' 'single' 'divorced' 'unknown']\n",
      "Unique values for education: ['basic.4y' 'high.school' 'basic.6y' 'basic.9y' 'professional.course'\n",
      " 'unknown' 'university.degree' 'illiterate']\n",
      "Unique values for default: ['no' 'unknown' 'yes']\n",
      "Unique values for housing: ['no' 'yes' 'unknown']\n",
      "Unique values for loan: ['no' 'yes' 'unknown']\n",
      "Unique values for contact: ['telephone' 'cellular']\n",
      "Unique values for month: ['may' 'jun' 'jul' 'aug' 'oct' 'nov' 'dec' 'mar' 'apr' 'sep']\n",
      "Unique values for day_of_week: ['mon' 'tue' 'wed' 'thu' 'fri']\n",
      "Unique values for poutcome: ['nonexistent' 'failure' 'success']\n",
      "Unique values for y: ['no' 'yes']\n"
     ]
    }
   ],
   "source": [
    "# Mengidentifikasi unique values untuk categorical features\n",
    "for column in categorical_ft :\n",
    "    print(f\"Unique values for {column}: {df1[column].unique()}\")"
   ]
  },
  {
   "cell_type": "code",
   "execution_count": 21,
   "metadata": {},
   "outputs": [
    {
     "data": {
      "text/html": [
       "<div>\n",
       "<style scoped>\n",
       "    .dataframe tbody tr th:only-of-type {\n",
       "        vertical-align: middle;\n",
       "    }\n",
       "\n",
       "    .dataframe tbody tr th {\n",
       "        vertical-align: top;\n",
       "    }\n",
       "\n",
       "    .dataframe thead th {\n",
       "        text-align: right;\n",
       "    }\n",
       "</style>\n",
       "<table border=\"1\" class=\"dataframe\">\n",
       "  <thead>\n",
       "    <tr style=\"text-align: right;\">\n",
       "      <th></th>\n",
       "      <th>age</th>\n",
       "      <th>duration</th>\n",
       "      <th>campaign</th>\n",
       "      <th>pdays</th>\n",
       "      <th>previous</th>\n",
       "      <th>emp.var.rate</th>\n",
       "      <th>cons.price.idx</th>\n",
       "      <th>cons.conf.idx</th>\n",
       "      <th>euribor3m</th>\n",
       "      <th>nr.employed</th>\n",
       "    </tr>\n",
       "  </thead>\n",
       "  <tbody>\n",
       "    <tr>\n",
       "      <th>count</th>\n",
       "      <td>41176.00000</td>\n",
       "      <td>41176.000000</td>\n",
       "      <td>41176.000000</td>\n",
       "      <td>41176.000000</td>\n",
       "      <td>41176.000000</td>\n",
       "      <td>41176.000000</td>\n",
       "      <td>41176.000000</td>\n",
       "      <td>41176.000000</td>\n",
       "      <td>41176.000000</td>\n",
       "      <td>41176.000000</td>\n",
       "    </tr>\n",
       "    <tr>\n",
       "      <th>mean</th>\n",
       "      <td>40.02380</td>\n",
       "      <td>258.315815</td>\n",
       "      <td>2.567879</td>\n",
       "      <td>962.464810</td>\n",
       "      <td>0.173013</td>\n",
       "      <td>0.081922</td>\n",
       "      <td>93.575720</td>\n",
       "      <td>-40.502863</td>\n",
       "      <td>3.621293</td>\n",
       "      <td>5167.034870</td>\n",
       "    </tr>\n",
       "    <tr>\n",
       "      <th>std</th>\n",
       "      <td>10.42068</td>\n",
       "      <td>259.305321</td>\n",
       "      <td>2.770318</td>\n",
       "      <td>186.937102</td>\n",
       "      <td>0.494964</td>\n",
       "      <td>1.570883</td>\n",
       "      <td>0.578839</td>\n",
       "      <td>4.627860</td>\n",
       "      <td>1.734437</td>\n",
       "      <td>72.251364</td>\n",
       "    </tr>\n",
       "    <tr>\n",
       "      <th>min</th>\n",
       "      <td>17.00000</td>\n",
       "      <td>0.000000</td>\n",
       "      <td>1.000000</td>\n",
       "      <td>0.000000</td>\n",
       "      <td>0.000000</td>\n",
       "      <td>-3.400000</td>\n",
       "      <td>92.201000</td>\n",
       "      <td>-50.800000</td>\n",
       "      <td>0.634000</td>\n",
       "      <td>4963.600000</td>\n",
       "    </tr>\n",
       "    <tr>\n",
       "      <th>25%</th>\n",
       "      <td>32.00000</td>\n",
       "      <td>102.000000</td>\n",
       "      <td>1.000000</td>\n",
       "      <td>999.000000</td>\n",
       "      <td>0.000000</td>\n",
       "      <td>-1.800000</td>\n",
       "      <td>93.075000</td>\n",
       "      <td>-42.700000</td>\n",
       "      <td>1.344000</td>\n",
       "      <td>5099.100000</td>\n",
       "    </tr>\n",
       "    <tr>\n",
       "      <th>50%</th>\n",
       "      <td>38.00000</td>\n",
       "      <td>180.000000</td>\n",
       "      <td>2.000000</td>\n",
       "      <td>999.000000</td>\n",
       "      <td>0.000000</td>\n",
       "      <td>1.100000</td>\n",
       "      <td>93.749000</td>\n",
       "      <td>-41.800000</td>\n",
       "      <td>4.857000</td>\n",
       "      <td>5191.000000</td>\n",
       "    </tr>\n",
       "    <tr>\n",
       "      <th>75%</th>\n",
       "      <td>47.00000</td>\n",
       "      <td>319.000000</td>\n",
       "      <td>3.000000</td>\n",
       "      <td>999.000000</td>\n",
       "      <td>0.000000</td>\n",
       "      <td>1.400000</td>\n",
       "      <td>93.994000</td>\n",
       "      <td>-36.400000</td>\n",
       "      <td>4.961000</td>\n",
       "      <td>5228.100000</td>\n",
       "    </tr>\n",
       "    <tr>\n",
       "      <th>max</th>\n",
       "      <td>98.00000</td>\n",
       "      <td>4918.000000</td>\n",
       "      <td>56.000000</td>\n",
       "      <td>999.000000</td>\n",
       "      <td>7.000000</td>\n",
       "      <td>1.400000</td>\n",
       "      <td>94.767000</td>\n",
       "      <td>-26.900000</td>\n",
       "      <td>5.045000</td>\n",
       "      <td>5228.100000</td>\n",
       "    </tr>\n",
       "  </tbody>\n",
       "</table>\n",
       "</div>"
      ],
      "text/plain": [
       "               age      duration      campaign         pdays      previous  \\\n",
       "count  41176.00000  41176.000000  41176.000000  41176.000000  41176.000000   \n",
       "mean      40.02380    258.315815      2.567879    962.464810      0.173013   \n",
       "std       10.42068    259.305321      2.770318    186.937102      0.494964   \n",
       "min       17.00000      0.000000      1.000000      0.000000      0.000000   \n",
       "25%       32.00000    102.000000      1.000000    999.000000      0.000000   \n",
       "50%       38.00000    180.000000      2.000000    999.000000      0.000000   \n",
       "75%       47.00000    319.000000      3.000000    999.000000      0.000000   \n",
       "max       98.00000   4918.000000     56.000000    999.000000      7.000000   \n",
       "\n",
       "       emp.var.rate  cons.price.idx  cons.conf.idx     euribor3m   nr.employed  \n",
       "count  41176.000000    41176.000000   41176.000000  41176.000000  41176.000000  \n",
       "mean       0.081922       93.575720     -40.502863      3.621293   5167.034870  \n",
       "std        1.570883        0.578839       4.627860      1.734437     72.251364  \n",
       "min       -3.400000       92.201000     -50.800000      0.634000   4963.600000  \n",
       "25%       -1.800000       93.075000     -42.700000      1.344000   5099.100000  \n",
       "50%        1.100000       93.749000     -41.800000      4.857000   5191.000000  \n",
       "75%        1.400000       93.994000     -36.400000      4.961000   5228.100000  \n",
       "max        1.400000       94.767000     -26.900000      5.045000   5228.100000  "
      ]
     },
     "execution_count": 21,
     "metadata": {},
     "output_type": "execute_result"
    }
   ],
   "source": [
    "df1.describe()"
   ]
  },
  {
   "cell_type": "markdown",
   "metadata": {},
   "source": [
    "## Age Count Distribution"
   ]
  },
  {
   "cell_type": "code",
   "execution_count": 22,
   "metadata": {},
   "outputs": [
    {
     "data": {
      "image/png": "[encoded data removed]",
      "text/plain": [
       "<Figure size 2000x800 with 1 Axes>"
      ]
     },
     "metadata": {},
     "output_type": "display_data"
    }
   ],
   "source": [
    "fig, ax = plt.subplots()\n",
    "fig.set_size_inches(20, 8)\n",
    "sns.countplot(x = 'age', data =  df1[numerical_ft])\n",
    "ax.set_xlabel('Age', fontsize=15)\n",
    "ax.set_ylabel('Count', fontsize=15)\n",
    "ax.set_title('Age Count Distribution', fontsize=15)\n",
    "sns.despine()"
   ]
  },
  {
   "cell_type": "markdown",
   "metadata": {},
   "source": [
    "Usia rata-rata dari nasabah adalah 40.02380 &asymp; 40, dengan usia termuda 17 tahun dan usia tertua 98 tahun."
   ]
  },
  {
   "cell_type": "markdown",
   "metadata": {},
   "source": [
    "## Duration for Subscription Decision"
   ]
  },
  {
   "cell_type": "code",
   "execution_count": 23,
   "metadata": {},
   "outputs": [
    {
     "data": {
      "image/png": "[encoded data removed]",
      "text/plain": [
       "<Figure size 640x480 with 1 Axes>"
      ]
     },
     "metadata": {},
     "output_type": "display_data"
    }
   ],
   "source": [
    "sns.boxplot(x='y', y='duration', data=df1, palette='viridis')\n",
    "plt.title('Box Plot of Duration for Subscription Decision')\n",
    "plt.show()"
   ]
  },
  {
   "cell_type": "code",
   "execution_count": 24,
   "metadata": {},
   "outputs": [
    {
     "data": {
      "text/html": [
       "<div>\n",
       "<style scoped>\n",
       "    .dataframe tbody tr th:only-of-type {\n",
       "        vertical-align: middle;\n",
       "    }\n",
       "\n",
       "    .dataframe tbody tr th {\n",
       "        vertical-align: top;\n",
       "    }\n",
       "\n",
       "    .dataframe thead th {\n",
       "        text-align: right;\n",
       "    }\n",
       "</style>\n",
       "<table border=\"1\" class=\"dataframe\">\n",
       "  <thead>\n",
       "    <tr style=\"text-align: right;\">\n",
       "      <th></th>\n",
       "      <th>count</th>\n",
       "      <th>mean</th>\n",
       "      <th>std</th>\n",
       "      <th>min</th>\n",
       "      <th>25%</th>\n",
       "      <th>50%</th>\n",
       "      <th>75%</th>\n",
       "      <th>max</th>\n",
       "    </tr>\n",
       "    <tr>\n",
       "      <th>y</th>\n",
       "      <th></th>\n",
       "      <th></th>\n",
       "      <th></th>\n",
       "      <th></th>\n",
       "      <th></th>\n",
       "      <th></th>\n",
       "      <th></th>\n",
       "      <th></th>\n",
       "    </tr>\n",
       "  </thead>\n",
       "  <tbody>\n",
       "    <tr>\n",
       "      <th>no</th>\n",
       "      <td>36537.0</td>\n",
       "      <td>220.868079</td>\n",
       "      <td>207.116178</td>\n",
       "      <td>0.0</td>\n",
       "      <td>95.0</td>\n",
       "      <td>164.0</td>\n",
       "      <td>279.0</td>\n",
       "      <td>4918.0</td>\n",
       "    </tr>\n",
       "    <tr>\n",
       "      <th>yes</th>\n",
       "      <td>4639.0</td>\n",
       "      <td>553.256090</td>\n",
       "      <td>401.190736</td>\n",
       "      <td>37.0</td>\n",
       "      <td>253.5</td>\n",
       "      <td>449.0</td>\n",
       "      <td>741.5</td>\n",
       "      <td>4199.0</td>\n",
       "    </tr>\n",
       "  </tbody>\n",
       "</table>\n",
       "</div>"
      ],
      "text/plain": [
       "       count        mean         std   min    25%    50%    75%     max\n",
       "y                                                                      \n",
       "no   36537.0  220.868079  207.116178   0.0   95.0  164.0  279.0  4918.0\n",
       "yes   4639.0  553.256090  401.190736  37.0  253.5  449.0  741.5  4199.0"
      ]
     },
     "execution_count": 24,
     "metadata": {},
     "output_type": "execute_result"
    }
   ],
   "source": [
    "df1.groupby('y')['duration'].describe()"
   ]
  },
  {
   "cell_type": "markdown",
   "metadata": {},
   "source": [
    "Berdasarkan visualisasi box plot dan statistik deskriptif variabel `'duration'` diketahui:\n",
    "- Pada kelas `no`, rata-rata durasi telepon terakhir dari nasabah yang memilih untuk tidak mengikuti deposito berjangka bank adalah 220.868079\n",
    "- Pada kelas `yes`, rata-rata durasi telepon terakhir dari nasabah yang memilih untuk mengikuti deposito berjangka bank adalah 553.256090\t"
   ]
  },
  {
   "cell_type": "markdown",
   "metadata": {},
   "source": [
    "## Job "
   ]
  },
  {
   "cell_type": "code",
   "execution_count": 25,
   "metadata": {},
   "outputs": [
    {
     "data": {
      "text/html": [
       "<div>\n",
       "<style scoped>\n",
       "    .dataframe tbody tr th:only-of-type {\n",
       "        vertical-align: middle;\n",
       "    }\n",
       "\n",
       "    .dataframe tbody tr th {\n",
       "        vertical-align: top;\n",
       "    }\n",
       "\n",
       "    .dataframe thead th {\n",
       "        text-align: right;\n",
       "    }\n",
       "</style>\n",
       "<table border=\"1\" class=\"dataframe\">\n",
       "  <thead>\n",
       "    <tr style=\"text-align: right;\">\n",
       "      <th>y</th>\n",
       "      <th>no</th>\n",
       "      <th>yes</th>\n",
       "    </tr>\n",
       "    <tr>\n",
       "      <th>job</th>\n",
       "      <th></th>\n",
       "      <th></th>\n",
       "    </tr>\n",
       "  </thead>\n",
       "  <tbody>\n",
       "    <tr>\n",
       "      <th>admin.</th>\n",
       "      <td>9068</td>\n",
       "      <td>1351</td>\n",
       "    </tr>\n",
       "    <tr>\n",
       "      <th>technician</th>\n",
       "      <td>6009</td>\n",
       "      <td>730</td>\n",
       "    </tr>\n",
       "    <tr>\n",
       "      <th>blue-collar</th>\n",
       "      <td>8615</td>\n",
       "      <td>638</td>\n",
       "    </tr>\n",
       "    <tr>\n",
       "      <th>retired</th>\n",
       "      <td>1284</td>\n",
       "      <td>434</td>\n",
       "    </tr>\n",
       "    <tr>\n",
       "      <th>management</th>\n",
       "      <td>2596</td>\n",
       "      <td>328</td>\n",
       "    </tr>\n",
       "    <tr>\n",
       "      <th>services</th>\n",
       "      <td>3644</td>\n",
       "      <td>323</td>\n",
       "    </tr>\n",
       "    <tr>\n",
       "      <th>student</th>\n",
       "      <td>600</td>\n",
       "      <td>275</td>\n",
       "    </tr>\n",
       "    <tr>\n",
       "      <th>self-employed</th>\n",
       "      <td>1272</td>\n",
       "      <td>149</td>\n",
       "    </tr>\n",
       "    <tr>\n",
       "      <th>unemployed</th>\n",
       "      <td>870</td>\n",
       "      <td>144</td>\n",
       "    </tr>\n",
       "    <tr>\n",
       "      <th>entrepreneur</th>\n",
       "      <td>1332</td>\n",
       "      <td>124</td>\n",
       "    </tr>\n",
       "    <tr>\n",
       "      <th>housemaid</th>\n",
       "      <td>954</td>\n",
       "      <td>106</td>\n",
       "    </tr>\n",
       "    <tr>\n",
       "      <th>unknown</th>\n",
       "      <td>293</td>\n",
       "      <td>37</td>\n",
       "    </tr>\n",
       "  </tbody>\n",
       "</table>\n",
       "</div>"
      ],
      "text/plain": [
       "y                no   yes\n",
       "job                      \n",
       "admin.         9068  1351\n",
       "technician     6009   730\n",
       "blue-collar    8615   638\n",
       "retired        1284   434\n",
       "management     2596   328\n",
       "services       3644   323\n",
       "student         600   275\n",
       "self-employed  1272   149\n",
       "unemployed      870   144\n",
       "entrepreneur   1332   124\n",
       "housemaid       954   106\n",
       "unknown         293    37"
      ]
     },
     "execution_count": 25,
     "metadata": {},
     "output_type": "execute_result"
    }
   ],
   "source": [
    "import matplotlib.pyplot as plt\n",
    "import seaborn as sns\n",
    "\n",
    "# Group data by 'job' and 'y', then count the occurrences\n",
    "job_subs = df1.groupby(['job', 'y']).size().unstack()\n",
    "job_subs = job_subs.sort_values(by='yes', ascending=False)\n",
    "\n",
    "job_subs"
   ]
  },
  {
   "cell_type": "code",
   "execution_count": 26,
   "metadata": {},
   "outputs": [
    {
     "data": {
      "image/png": "[encoded data removed]",
      "text/plain": [
       "<Figure size 1200x800 with 1 Axes>"
      ]
     },
     "metadata": {},
     "output_type": "display_data"
    }
   ],
   "source": [
    "# Plotting a horizontal bar plot\n",
    "job_subs.plot(kind='barh', stacked=False, colormap='viridis', figsize=(12, 8))\n",
    "\n",
    "# Adding labels and title\n",
    "plt.title('Subscription Counts by Job (Sorted by Yes)')\n",
    "plt.xlabel('Count')\n",
    "plt.ylabel('Job')\n",
    "\n",
    "# Show the plot\n",
    "plt.show()"
   ]
  },
  {
   "cell_type": "markdown",
   "metadata": {},
   "source": [
    "Pekerjaan yang paling banyak memilih untuk mengikuti deposito berjangka bank (bank term deposit subscriptions) adalah\n",
    "- admin dengan `no`\t9068 dan `yes` 1351\n",
    "- technician `no` 6009 `yes` 730\n",
    "- blue-collar `no` 8615\t`yes` 638"
   ]
  },
  {
   "cell_type": "markdown",
   "metadata": {},
   "source": [
    "# Data Preprocessing"
   ]
  },
  {
   "cell_type": "markdown",
   "metadata": {},
   "source": [
    "Sebelumnya ubah nilai fitur categorical mendjadi numerical label"
   ]
  },
  {
   "cell_type": "code",
   "execution_count": 27,
   "metadata": {},
   "outputs": [
    {
     "data": {
      "text/plain": [
       "array(['no', 'yes'], dtype=object)"
      ]
     },
     "execution_count": 27,
     "metadata": {},
     "output_type": "execute_result"
    }
   ],
   "source": [
    "df2['y'].unique()"
   ]
  },
  {
   "cell_type": "code",
   "execution_count": 28,
   "metadata": {},
   "outputs": [],
   "source": [
    "# Mengubah nilai dari \"Yes\" dan \"No\" menjadi 1 atau 0 pada data full df1\n",
    "df1['y'] = df1['y'].replace({'no': 0, 'yes': 1})\n",
    "\n",
    "# Mengubah nilai dari \"Yes\" dan \"No\" menjadi 1 atau 0 pada data full df2\n",
    "df2['y'] = df2['y'].replace({'no': 0, 'yes': 1})"
   ]
  },
  {
   "cell_type": "code",
   "execution_count": 29,
   "metadata": {},
   "outputs": [
    {
     "data": {
      "text/plain": [
       "array([0, 1], dtype=int64)"
      ]
     },
     "execution_count": 29,
     "metadata": {},
     "output_type": "execute_result"
    }
   ],
   "source": [
    "df2['y'].unique()"
   ]
  },
  {
   "cell_type": "code",
   "execution_count": 30,
   "metadata": {},
   "outputs": [
    {
     "name": "stdout",
     "output_type": "stream",
     "text": [
      "<class 'pandas.core.frame.DataFrame'>\n",
      "Index: 41176 entries, 0 to 41187\n",
      "Data columns (total 21 columns):\n",
      " #   Column          Non-Null Count  Dtype  \n",
      "---  ------          --------------  -----  \n",
      " 0   age             41176 non-null  int64  \n",
      " 1   job             41176 non-null  int32  \n",
      " 2   marital         41176 non-null  int32  \n",
      " 3   education       41176 non-null  int32  \n",
      " 4   default         41176 non-null  int32  \n",
      " 5   housing         41176 non-null  int32  \n",
      " 6   loan            41176 non-null  int32  \n",
      " 7   contact         41176 non-null  int32  \n",
      " 8   month           41176 non-null  int32  \n",
      " 9   day_of_week     41176 non-null  int32  \n",
      " 10  duration        41176 non-null  int64  \n",
      " 11  campaign        41176 non-null  int64  \n",
      " 12  pdays           41176 non-null  int64  \n",
      " 13  previous        41176 non-null  int64  \n",
      " 14  poutcome        41176 non-null  int32  \n",
      " 15  emp.var.rate    41176 non-null  float64\n",
      " 16  cons.price.idx  41176 non-null  float64\n",
      " 17  cons.conf.idx   41176 non-null  float64\n",
      " 18  euribor3m       41176 non-null  float64\n",
      " 19  nr.employed     41176 non-null  float64\n",
      " 20  y               41176 non-null  int64  \n",
      "dtypes: float64(5), int32(10), int64(6)\n",
      "memory usage: 5.3 MB\n"
     ]
    }
   ],
   "source": [
    "from sklearn.preprocessing import LabelEncoder\n",
    "\n",
    "label_encoder = LabelEncoder()\n",
    "\n",
    "cat_ft = ['job', 'marital', 'education', 'default', 'housing', 'loan', \n",
    "                                 'contact', 'month', 'day_of_week', 'poutcome']\n",
    "\n",
    "# Mengubah non-numerical label menjadi numerical label\n",
    "for column in cat_ft:\n",
    "    df1[column] = label_encoder.fit_transform(df1[column])\n",
    "    df2[column] = label_encoder.fit_transform(df2[column])\n",
    "\n",
    "df1.info()"
   ]
  },
  {
   "cell_type": "code",
   "execution_count": 31,
   "metadata": {},
   "outputs": [
    {
     "name": "stdout",
     "output_type": "stream",
     "text": [
      "[0 1]\n",
      "[0 1]\n"
     ]
    }
   ],
   "source": [
    "print(df2['y'].unique())\n",
    "\n",
    "print(df1['y'].unique())"
   ]
  },
  {
   "cell_type": "code",
   "execution_count": 32,
   "metadata": {},
   "outputs": [
    {
     "data": {
      "text/html": [
       "<div>\n",
       "<style scoped>\n",
       "    .dataframe tbody tr th:only-of-type {\n",
       "        vertical-align: middle;\n",
       "    }\n",
       "\n",
       "    .dataframe tbody tr th {\n",
       "        vertical-align: top;\n",
       "    }\n",
       "\n",
       "    .dataframe thead th {\n",
       "        text-align: right;\n",
       "    }\n",
       "</style>\n",
       "<table border=\"1\" class=\"dataframe\">\n",
       "  <thead>\n",
       "    <tr style=\"text-align: right;\">\n",
       "      <th></th>\n",
       "      <th>age</th>\n",
       "      <th>job</th>\n",
       "      <th>marital</th>\n",
       "      <th>education</th>\n",
       "      <th>default</th>\n",
       "      <th>housing</th>\n",
       "      <th>loan</th>\n",
       "      <th>contact</th>\n",
       "      <th>month</th>\n",
       "      <th>day_of_week</th>\n",
       "      <th>duration</th>\n",
       "      <th>campaign</th>\n",
       "      <th>pdays</th>\n",
       "      <th>previous</th>\n",
       "      <th>poutcome</th>\n",
       "      <th>emp.var.rate</th>\n",
       "      <th>cons.price.idx</th>\n",
       "      <th>cons.conf.idx</th>\n",
       "      <th>euribor3m</th>\n",
       "      <th>nr.employed</th>\n",
       "      <th>y</th>\n",
       "    </tr>\n",
       "  </thead>\n",
       "  <tbody>\n",
       "    <tr>\n",
       "      <th>735</th>\n",
       "      <td>30</td>\n",
       "      <td>9</td>\n",
       "      <td>2</td>\n",
       "      <td>6</td>\n",
       "      <td>0</td>\n",
       "      <td>2</td>\n",
       "      <td>0</td>\n",
       "      <td>0</td>\n",
       "      <td>1</td>\n",
       "      <td>1</td>\n",
       "      <td>14</td>\n",
       "      <td>13</td>\n",
       "      <td>999</td>\n",
       "      <td>0</td>\n",
       "      <td>1</td>\n",
       "      <td>1.4</td>\n",
       "      <td>93.444</td>\n",
       "      <td>-36.1</td>\n",
       "      <td>4.965</td>\n",
       "      <td>5228.1</td>\n",
       "      <td>0</td>\n",
       "    </tr>\n",
       "  </tbody>\n",
       "</table>\n",
       "</div>"
      ],
      "text/plain": [
       "     age  job  marital  education  default  housing  loan  contact  month  \\\n",
       "735   30    9        2          6        0        2     0        0      1   \n",
       "\n",
       "     day_of_week  duration  campaign  pdays  previous  poutcome  emp.var.rate  \\\n",
       "735            1        14        13    999         0         1           1.4   \n",
       "\n",
       "     cons.price.idx  cons.conf.idx  euribor3m  nr.employed  y  \n",
       "735          93.444          -36.1      4.965       5228.1  0  "
      ]
     },
     "execution_count": 32,
     "metadata": {},
     "output_type": "execute_result"
    }
   ],
   "source": [
    "df2.sample()"
   ]
  },
  {
   "cell_type": "markdown",
   "metadata": {},
   "source": [
    "# Logistic Regression"
   ]
  },
  {
   "cell_type": "code",
   "execution_count": 33,
   "metadata": {},
   "outputs": [
    {
     "data": {
      "text/plain": [
       "y\n",
       "0    3668\n",
       "1     451\n",
       "Name: count, dtype: int64"
      ]
     },
     "execution_count": 33,
     "metadata": {},
     "output_type": "execute_result"
    }
   ],
   "source": [
    "df2['y'].value_counts()"
   ]
  },
  {
   "cell_type": "code",
   "execution_count": 34,
   "metadata": {},
   "outputs": [],
   "source": [
    "from sklearn.model_selection import train_test_split\n",
    "from sklearn.linear_model import LogisticRegression\n",
    "from sklearn.preprocessing import StandardScaler\n",
    "from sklearn.metrics import accuracy_score, precision_score, recall_score, f1_score, confusion_matrix, classification_report\n",
    "from sklearn.utils import resample"
   ]
  },
  {
   "cell_type": "code",
   "execution_count": 35,
   "metadata": {},
   "outputs": [
    {
     "name": "stdout",
     "output_type": "stream",
     "text": [
      "Class distribution before resampling:\n",
      "y\n",
      "0    2936\n",
      "1     359\n",
      "Name: count, dtype: int64\n",
      "\n",
      "Class distribution after resampling:\n",
      "y\n",
      "1    3295\n",
      "0    2936\n",
      "Name: count, dtype: int64\n"
     ]
    }
   ],
   "source": [
    "# X contains features and y contains the target variable\n",
    "X = df2.drop('y', axis=1)\n",
    "y = df2['y']\n",
    "\n",
    "# Split the dataset into training and testing sets\n",
    "X_train_lr, X_test_lr, y_train_lr, y_test_lr = train_test_split(X, y, test_size=0.2, random_state=42)\n",
    "\n",
    "# Display the class distribution before resampling\n",
    "print(\"Class distribution before resampling:\")\n",
    "print(pd.Series(y_train_lr).value_counts())\n",
    "\n",
    "# Upsample the minority class using resample\n",
    "X_train_min_up, y_train_min_up = resample(X_train_lr[y_train_lr == 1],\n",
    "                                            y_train_lr[y_train_lr == 1],\n",
    "                                            replace=True,\n",
    "                                            n_samples=X_train_lr[y_train_lr == 0].shape[0],\n",
    "                                            random_state=42)\n",
    "\n",
    "# Combine the upsampled minority class with the majority class\n",
    "X_train_lr = pd.concat([X_train_lr, X_train_min_up])\n",
    "y_train_lr = pd.concat([y_train_lr, y_train_min_up])\n",
    "\n",
    "# Standardize features\n",
    "scaler = StandardScaler()\n",
    "X_train_lr = scaler.fit_transform(X_train_lr)\n",
    "X_test_lr = scaler.transform(X_test_lr)\n",
    "\n",
    "# Display the class distribution after resampling\n",
    "print(\"\\nClass distribution after resampling:\")\n",
    "print(pd.Series(y_train_lr).value_counts())\n"
   ]
  },
  {
   "cell_type": "code",
   "execution_count": 36,
   "metadata": {},
   "outputs": [],
   "source": [
    "# Initialize and train the model \n",
    "model_logreg = LogisticRegression(random_state=42)\n",
    "model_logreg.fit(X_train_lr, y_train_lr)\n",
    "\n",
    "# Make predictions on the test set\n",
    "y_pred_lr = model_logreg.predict(X_test_lr)"
   ]
  },
  {
   "cell_type": "code",
   "execution_count": 37,
   "metadata": {},
   "outputs": [
    {
     "name": "stdout",
     "output_type": "stream",
     "text": [
      "Classification Report for Logistic Regression:\n",
      "              precision    recall  f1-score   support\n",
      "\n",
      "           0       0.98      0.84      0.90       732\n",
      "           1       0.40      0.86      0.55        92\n",
      "\n",
      "    accuracy                           0.84       824\n",
      "   macro avg       0.69      0.85      0.73       824\n",
      "weighted avg       0.91      0.84      0.86       824\n",
      "\n",
      "Logistic Regression Model Evaluation:\n",
      "Accuracy: 0.8410194174757282\n",
      "Precision: 0.4010152284263959\n",
      "Recall: 0.8586956521739131\n",
      "F1 Score: 0.5467128027681661\n"
     ]
    },
    {
     "data": {
      "text/plain": [
       "Text(33.22222222222222, 0.5, 'Actual class')"
      ]
     },
     "execution_count": 37,
     "metadata": {},
     "output_type": "execute_result"
    },
    {
     "data": {
      "image/png": "[encoded data removed]",
      "text/plain": [
       "<Figure size 500x400 with 2 Axes>"
      ]
     },
     "metadata": {},
     "output_type": "display_data"
    }
   ],
   "source": [
    "# Evaluate the model\n",
    "accuracy_logreg = accuracy_score(y_test_lr, y_pred_lr)\n",
    "classification_report_logistic = classification_report(y_test_lr, y_pred_lr)\n",
    "precision_logreg = precision_score(y_test_lr, y_pred_lr)\n",
    "recall_logreg = recall_score(y_test_lr, y_pred_lr)\n",
    "f1_logreg = f1_score(y_test_lr, y_pred_lr)\n",
    "\n",
    "print(f\"Classification Report for Logistic Regression:\\n{classification_report_logistic}\")\n",
    "\n",
    "# Display Logistic Regression model evaluation metrics\n",
    "print(\"Logistic Regression Model Evaluation:\")\n",
    "print(\"Accuracy:\", accuracy_logreg)\n",
    "print(\"Precision:\", precision_logreg)\n",
    "print(\"Recall:\", recall_logreg)\n",
    "print(\"F1 Score:\", f1_logreg)\n",
    "\n",
    "# Confusion matrix\n",
    "conf_matrix = confusion_matrix(y_test_lr, y_pred_lr)\n",
    "\n",
    "plt.figure(figsize=(5,4))\n",
    "sns.heatmap(conf_matrix, annot=True, fmt=\".0f\", cmap=\"PiYG\", annot_kws={\"fontsize\":12})\n",
    "plt.title(\"Logistic Regression\", fontsize=14)\n",
    "plt.xlabel(\"Predicted class\")\n",
    "plt.ylabel(\"Actual class\")"
   ]
  },
  {
   "cell_type": "markdown",
   "metadata": {},
   "source": [
    "Dari heatmap confusion matrix didapatkan:\n",
    "- True Negative = 614 (diprediksi tidak akan mengikuti dan benar tidak mengikuti) \n",
    "- False Negative = 13 (diprediksi tidak akan mengikuti akan tetapi mengikuti (subscribed)) \n",
    "- True Positive = 79 (diprediksi akan mengikuti (subscribed) dan benar mengikuti (subscribed)) \n",
    "- False Positive = 118  (diprediksi akan mengikuti (subscribed) akan tetapi tidak mengikuti)\n",
    "\n",
    "Dan didapatkan nilai f1-score untuk kelas positif `1` atau `\"yes\"` adalah 0.55."
   ]
  },
  {
   "cell_type": "markdown",
   "metadata": {},
   "source": [
    "# K-Nearest Neighbors"
   ]
  },
  {
   "cell_type": "code",
   "execution_count": 38,
   "metadata": {},
   "outputs": [],
   "source": [
    "from sklearn.model_selection import train_test_split\n",
    "from sklearn.preprocessing import StandardScaler\n",
    "from sklearn.neighbors import KNeighborsClassifier\n",
    "from imblearn.under_sampling import RandomUnderSampler as RUS\n",
    "from imblearn.pipeline import make_pipeline"
   ]
  },
  {
   "cell_type": "code",
   "execution_count": 39,
   "metadata": {},
   "outputs": [],
   "source": [
    "# X and y are feature and target variables\n",
    "X_train_knn, X_test_knn, y_train_knn, y_test_knn = train_test_split(X, y, test_size=0.2, random_state=42)\n",
    "\n",
    "# Standardize features\n",
    "scaler = StandardScaler()\n",
    "X_train_knn = scaler.fit_transform(X_train_knn)\n",
    "X_test_knn = scaler.transform(X_test_knn)"
   ]
  },
  {
   "cell_type": "code",
   "execution_count": 40,
   "metadata": {},
   "outputs": [],
   "source": [
    "# Example using RUS for over-sampling\n",
    "knn_model = make_pipeline(RUS(), KNeighborsClassifier(n_neighbors=5))\n",
    "knn_model.fit(X_train_knn, y_train_knn)\n",
    "\n",
    "# Make predictions on the test set\n",
    "y_pred_knn = knn_model.predict(X_test_knn)\n"
   ]
  },
  {
   "cell_type": "code",
   "execution_count": 41,
   "metadata": {},
   "outputs": [
    {
     "name": "stdout",
     "output_type": "stream",
     "text": [
      "Classification Report for Logistic Regression:\n",
      "              precision    recall  f1-score   support\n",
      "\n",
      "           0       0.97      0.84      0.90       732\n",
      "           1       0.37      0.76      0.50        92\n",
      "\n",
      "    accuracy                           0.83       824\n",
      "   macro avg       0.67      0.80      0.70       824\n",
      "weighted avg       0.90      0.83      0.85       824\n",
      "\n",
      "Logistic Regression Model Evaluation:\n",
      "Accuracy: 0.8276699029126213\n",
      "Precision: 0.3684210526315789\n",
      "Recall: 0.7608695652173914\n",
      "F1 Score: 0.4964539007092198\n"
     ]
    },
    {
     "data": {
      "text/plain": [
       "Text(33.22222222222222, 0.5, 'Actual class')"
      ]
     },
     "execution_count": 41,
     "metadata": {},
     "output_type": "execute_result"
    },
    {
     "data": {
      "image/png": "[encoded data removed]",
      "text/plain": [
       "<Figure size 500x400 with 2 Axes>"
      ]
     },
     "metadata": {},
     "output_type": "display_data"
    }
   ],
   "source": [
    "# Evaluate the model\n",
    "print(f\"Classification Report for Logistic Regression:\\n{classification_report(y_test_knn, y_pred_knn)}\")\n",
    "\n",
    "# Display Logistic Regression model evaluation metrics\n",
    "print(\"Logistic Regression Model Evaluation:\")\n",
    "print(f\"Accuracy: {accuracy_score(y_test_knn, y_pred_knn)}\")\n",
    "print(f\"Precision: {precision_score(y_test_knn, y_pred_knn)}\")\n",
    "print(f\"Recall: {recall_score(y_test_knn, y_pred_knn)}\")\n",
    "print(f\"F1 Score: {f1_score(y_test_knn, y_pred_knn)}\")\n",
    "\n",
    "# Confusion matrix\n",
    "conf_matrix = confusion_matrix(y_test_knn, y_pred_knn)\n",
    "\n",
    "plt.figure(figsize=(5,4))\n",
    "sns.heatmap(conf_matrix, annot=True, fmt=\".0f\", cmap=\"PiYG\", annot_kws={\"fontsize\":12})\n",
    "plt.title(\"Logistic Regression\", fontsize=14)\n",
    "plt.xlabel(\"Predicted class\")\n",
    "plt.ylabel(\"Actual class\")"
   ]
  },
  {
   "cell_type": "markdown",
   "metadata": {},
   "source": [
    "Dari heatmap confusion matrix didapatkan:\n",
    "- True Negative = 606 (diprediksi tidak akan mengikuti dan benar tidak mengikuti) \n",
    "- False Negative = 27 (diprediksi tidak akan mengikuti akan tetapi mengikuti (subscribed)) \n",
    "- True Positive = 65 (diprediksi akan mengikuti (subscribed) dan benar mengikuti (subscribed)) \n",
    "- False Positive = 126  (diprediksi akan mengikuti (subscribed) akan tetapi tidak mengikuti)\n",
    "\n",
    "Dan didapatkan nilai f1-score untuk kelas positif `1` atau `\"yes\"` adalah 0.46."
   ]
  },
  {
   "cell_type": "markdown",
   "metadata": {},
   "source": [
    "# Support Vector Machine (SVM)"
   ]
  },
  {
   "cell_type": "code",
   "execution_count": 42,
   "metadata": {},
   "outputs": [],
   "source": [
    "from sklearn.svm import SVC\n",
    "from sklearn.model_selection import train_test_split\n",
    "from sklearn.preprocessing import StandardScaler\n",
    "from imblearn.over_sampling import RandomOverSampler\n",
    "\n",
    "# Create a train-test split on the subsample\n",
    "X_train_svm, X_test_svm, y_train_svm, y_test_svm = train_test_split(X, y, test_size=0.2, random_state=42)\n",
    "\n",
    "# Upsample the minority class using RandomOverSampler\n",
    "ros = RandomOverSampler(random_state=42)\n",
    "X_train_svm, y_train_svm = ros.fit_resample(X_train_svm, y_train_svm)\n",
    "\n",
    "# Initialize the scaler\n",
    "scaler = StandardScaler()\n",
    "\n",
    "# Fit the scaler on the training data and transform both the training and test sets\n",
    "X_train_svm = scaler.fit_transform(X_train_svm)\n",
    "X_test_svm = scaler.transform(X_test_svm)"
   ]
  },
  {
   "cell_type": "code",
   "execution_count": 43,
   "metadata": {},
   "outputs": [],
   "source": [
    "# Create an SVM model\n",
    "svm_model = SVC(kernel='linear', C=1.0, random_state=42)\n",
    "\n",
    "# Train the model on the subsample\n",
    "svm_model.fit(X_train_svm, y_train_svm)\n",
    "\n",
    "y_pred_svm = svm_model.predict(X_test_svm)"
   ]
  },
  {
   "cell_type": "code",
   "execution_count": 44,
   "metadata": {},
   "outputs": [
    {
     "name": "stdout",
     "output_type": "stream",
     "text": [
      "Classification Report for KNN:\n",
      "              precision    recall  f1-score   support\n",
      "\n",
      "           0       0.98      0.84      0.90       732\n",
      "           1       0.40      0.85      0.54        92\n",
      "\n",
      "    accuracy                           0.84       824\n",
      "   macro avg       0.69      0.84      0.72       824\n",
      "weighted avg       0.91      0.84      0.86       824\n",
      "\n",
      "KNN Model Evaluation:\n",
      "Accuracy: 0.8385922330097088\n",
      "Precision: 0.39593908629441626\n",
      "Recall: 0.8478260869565217\n",
      "F1 Score: 0.5397923875432526\n"
     ]
    },
    {
     "data": {
      "text/plain": [
       "Text(33.22222222222222, 0.5, 'Actual class')"
      ]
     },
     "execution_count": 44,
     "metadata": {},
     "output_type": "execute_result"
    },
    {
     "data": {
      "image/png": "[encoded data removed]",
      "text/plain": [
       "<Figure size 500x400 with 2 Axes>"
      ]
     },
     "metadata": {},
     "output_type": "display_data"
    }
   ],
   "source": [
    "# Evaluate the model\n",
    "print(f\"Classification Report for KNN:\\n{classification_report(y_test_svm, y_pred_svm)}\")\n",
    "\n",
    "# Display Logistic Regression model evaluation metrics\n",
    "print(\"KNN Model Evaluation:\")\n",
    "print(f\"Accuracy: {accuracy_score(y_test_svm, y_pred_svm)}\")\n",
    "print(f\"Precision: {precision_score(y_test_svm, y_pred_svm)}\")\n",
    "print(f\"Recall: {recall_score(y_test_svm, y_pred_svm)}\")\n",
    "print(f\"F1 Score: {f1_score(y_test_svm, y_pred_svm)}\")\n",
    "\n",
    "# Confusion matrix\n",
    "conf_matrix = confusion_matrix(y_test_svm, y_pred_svm)\n",
    "\n",
    "plt.figure(figsize=(5,4))\n",
    "sns.heatmap(conf_matrix, annot=True, fmt=\".0f\", cmap=\"PiYG\", annot_kws={\"fontsize\":12})\n",
    "plt.title(\"K-Nearest Neighbors\", fontsize=14)\n",
    "plt.xlabel(\"Predicted class\")\n",
    "plt.ylabel(\"Actual class\")"
   ]
  },
  {
   "cell_type": "markdown",
   "metadata": {},
   "source": [
    "Dari heatmap confusion matrix didapatkan:\n",
    "- True Negative = 613 (diprediksi tidak akan mengikuti dan benar tidak mengikuti) \n",
    "- False Negative = 14 (diprediksi tidak akan mengikuti akan tetapi mengikuti (subscribed)) \n",
    "- True Positive = 78 (diprediksi akan mengikuti (subscribed) dan benar mengikuti (subscribed)) \n",
    "- False Positive = 119  (diprediksi akan mengikuti (subscribed) akan tetapi tidak mengikuti)\n",
    "\n",
    "Dan didapatkan nilai f1-score untuk kelas positif `1` atau `\"yes\"` adalah 0.54."
   ]
  },
  {
   "cell_type": "markdown",
   "metadata": {},
   "source": [
    "# Decision Tree"
   ]
  },
  {
   "cell_type": "code",
   "execution_count": 45,
   "metadata": {},
   "outputs": [],
   "source": [
    "from sklearn.tree import DecisionTreeClassifier"
   ]
  },
  {
   "cell_type": "code",
   "execution_count": 46,
   "metadata": {},
   "outputs": [
    {
     "name": "stdout",
     "output_type": "stream",
     "text": [
      "{'class_weight': 'balanced', 'criterion': 'entropy', 'max_depth': 5, 'min_impurity_decrease': 0.0, 'random_state': 42, 'splitter': 'best'}\n",
      "DecisionTreeClassifier(class_weight='balanced', criterion='entropy',\n",
      "                       max_depth=5, random_state=42)\n"
     ]
    }
   ],
   "source": [
    "# Split the data into training and testing sets\n",
    "X_train_dt, X_test_dt, y_train_dt, y_test_dt = train_test_split(X, y, test_size=0.2, random_state=42)\n",
    "\n",
    "param_grid = {'max_depth': [None, 5, 10, 15],\n",
    "                'criterion': ['gini', 'entropy'],\n",
    "                'splitter': ['best', 'random'],\n",
    "                'class_weight': [None, 'balanced', {0: 1, 1: 10}],\n",
    "                'random_state': [42],\n",
    "                'min_impurity_decrease': [0.0, 0.1, 0.2]}\n",
    "\n",
    "from sklearn.model_selection import GridSearchCV\n",
    "\n",
    "dt_model = DecisionTreeClassifier(random_state=42)\n",
    "\n",
    "grid_search = GridSearchCV(dt_model, param_grid, cv=5, scoring='f1', n_jobs=-1)\n",
    "grid_search.fit(X_train_dt, y_train_dt)\n",
    "\n",
    "best_dt_params = grid_search.best_params_\n",
    "best_dt_model = grid_search.best_estimator_\n",
    "\n",
    "print(best_dt_params)\n",
    "print(best_dt_model)"
   ]
  },
  {
   "cell_type": "code",
   "execution_count": 47,
   "metadata": {},
   "outputs": [],
   "source": [
    "# Create a Decision Tree model\n",
    "dt_model = DecisionTreeClassifier(class_weight='balanced', criterion='entropy',\n",
    "                                    max_depth=5, random_state=42)\n",
    "\n",
    "# Train the model on the upsampled training data\n",
    "dt_model.fit(X_train_dt, y_train_dt)\n",
    "\n",
    "# Make predictions on the test set\n",
    "y_pred_dt = dt_model.predict(X_test_dt)"
   ]
  },
  {
   "cell_type": "code",
   "execution_count": 48,
   "metadata": {},
   "outputs": [
    {
     "name": "stdout",
     "output_type": "stream",
     "text": [
      "Classification Report for Decision Tree:\n",
      "              precision    recall  f1-score   support\n",
      "\n",
      "           0       0.99      0.83      0.90       732\n",
      "           1       0.40      0.91      0.55        92\n",
      "\n",
      "    accuracy                           0.83       824\n",
      "   macro avg       0.69      0.87      0.73       824\n",
      "weighted avg       0.92      0.83      0.86       824\n",
      "\n",
      "Decision Tree Model Evaluation:\n",
      "Accuracy: 0.8349514563106796\n",
      "Precision: 0.39622641509433965\n",
      "Recall: 0.9130434782608695\n",
      "F1 Score: 0.5526315789473684\n"
     ]
    },
    {
     "data": {
      "text/plain": [
       "Text(33.22222222222222, 0.5, 'Actual class')"
      ]
     },
     "execution_count": 48,
     "metadata": {},
     "output_type": "execute_result"
    },
    {
     "data": {
      "image/png": "[encoded data removed]",
      "text/plain": [
       "<Figure size 500x400 with 2 Axes>"
      ]
     },
     "metadata": {},
     "output_type": "display_data"
    }
   ],
   "source": [
    "# Evaluate the model\n",
    "print(f\"Classification Report for Decision Tree:\\n{classification_report(y_test_dt, y_pred_dt)}\")\n",
    "\n",
    "# Display Logistic Regression model evaluation metrics\n",
    "print(\"Decision Tree Model Evaluation:\")\n",
    "print(f\"Accuracy: {accuracy_score(y_test_dt, y_pred_dt)}\")\n",
    "print(f\"Precision: {precision_score(y_test_dt, y_pred_dt)}\")\n",
    "print(f\"Recall: {recall_score(y_test_dt, y_pred_dt)}\")\n",
    "print(f\"F1 Score: {f1_score(y_test_dt, y_pred_dt)}\")\n",
    "\n",
    "# Confusion matrix\n",
    "conf_matrix = confusion_matrix(y_test_dt, y_pred_dt)\n",
    "\n",
    "plt.figure(figsize=(5,4))\n",
    "sns.heatmap(conf_matrix, annot=True, fmt=\".0f\", cmap=\"PiYG\", annot_kws={\"fontsize\":12})\n",
    "plt.title(\"Decision Tree\", fontsize=14)\n",
    "plt.xlabel(\"Predicted class\")\n",
    "plt.ylabel(\"Actual class\")"
   ]
  },
  {
   "cell_type": "markdown",
   "metadata": {},
   "source": [
    "Dari heatmap confusion matrix didapatkan:\n",
    "- True Negative = 604 (diprediksi tidak akan mengikuti dan benar tidak mengikuti) \n",
    "- False Negative = 8 (diprediksi tidak akan mengikuti akan tetapi mengikuti (subscribed)) \n",
    "- True Positive = 84 (diprediksi akan mengikuti (subscribed) dan benar mengikuti (subscribed)) \n",
    "- False Positive = 128  (diprediksi akan mengikuti (subscribed) akan tetapi tidak mengikuti)\n",
    "\n",
    "Dan didapatkan nilai f1-score untuk kelas positif `1` atau `\"yes\"` adalah 0.55."
   ]
  },
  {
   "cell_type": "markdown",
   "metadata": {},
   "source": [
    "# Random Forest "
   ]
  },
  {
   "cell_type": "code",
   "execution_count": 49,
   "metadata": {},
   "outputs": [],
   "source": [
    "from sklearn.ensemble import RandomForestClassifier\n",
    "\n",
    "# Split the data into training and testing sets\n",
    "X_train_rf, X_test_rf, y_train_rf, y_test_rf = train_test_split(X, y, test_size=0.2, random_state=42)\n",
    "\n",
    "# Upsample the minority class using RandomOverSampler\n",
    "ros = RandomOverSampler(random_state=42)\n",
    "X_train_rf, y_train_rf = ros.fit_resample(X_train_rf, y_train_rf)\n",
    "\n",
    "# Create a Decision Tree model\n",
    "rf_model = RandomForestClassifier(n_estimators=100, random_state=42)\n",
    "\n",
    "# Train the model on the upsampled training data\n",
    "rf_model.fit(X_train_rf, y_train_rf)\n",
    "\n",
    "# Make predictions on the test set\n",
    "y_pred_rf = rf_model.predict(X_test_rf)"
   ]
  },
  {
   "cell_type": "code",
   "execution_count": 50,
   "metadata": {},
   "outputs": [
    {
     "name": "stdout",
     "output_type": "stream",
     "text": [
      "Classification Report for Random Forest:\n",
      "              precision    recall  f1-score   support\n",
      "\n",
      "           0       0.94      0.96      0.95       732\n",
      "           1       0.62      0.55      0.59        92\n",
      "\n",
      "    accuracy                           0.91       824\n",
      "   macro avg       0.78      0.76      0.77       824\n",
      "weighted avg       0.91      0.91      0.91       824\n",
      "\n",
      "Random Forest Model Evaluation:\n",
      "Accuracy: 0.912621359223301\n",
      "Precision: 0.6219512195121951\n",
      "Recall: 0.5543478260869565\n",
      "F1 Score: 0.5862068965517241\n"
     ]
    },
    {
     "data": {
      "text/plain": [
       "Text(33.22222222222222, 0.5, 'Actual class')"
      ]
     },
     "execution_count": 50,
     "metadata": {},
     "output_type": "execute_result"
    },
    {
     "data": {
      "image/png": "[encoded data removed]",
      "text/plain": [
       "<Figure size 500x400 with 2 Axes>"
      ]
     },
     "metadata": {},
     "output_type": "display_data"
    }
   ],
   "source": [
    "# Evaluate the model\n",
    "print(f\"Classification Report for Random Forest:\\n{classification_report(y_test_rf, y_pred_rf)}\")\n",
    "\n",
    "# Display Logistic Regression model evaluation metrics\n",
    "print(\"Random Forest Model Evaluation:\")\n",
    "print(f\"Accuracy: {accuracy_score(y_test_rf, y_pred_rf)}\")\n",
    "print(f\"Precision: {precision_score(y_test_rf, y_pred_rf)}\")\n",
    "print(f\"Recall: {recall_score(y_test_rf, y_pred_rf)}\")\n",
    "print(f\"F1 Score: {f1_score(y_test_rf, y_pred_rf)}\")\n",
    "\n",
    "# Confusion matrix\n",
    "conf_matrix = confusion_matrix(y_test_rf, y_pred_rf)\n",
    "\n",
    "plt.figure(figsize=(5,4))\n",
    "sns.heatmap(conf_matrix, annot=True, fmt=\".0f\", cmap=\"PiYG\", annot_kws={\"fontsize\":12})\n",
    "plt.title(\"Random Forest\", fontsize=14)\n",
    "plt.xlabel(\"Predicted class\")\n",
    "plt.ylabel(\"Actual class\")"
   ]
  },
  {
   "cell_type": "markdown",
   "metadata": {},
   "source": [
    "Dari heatmap confusion matrix didapatkan:\n",
    "- True Negative = 701 (diprediksi tidak akan mengikuti dan benar tidak mengikuti) \n",
    "- False Negative = 41 (diprediksi tidak akan mengikuti akan tetapi mengikuti (subscribed)) \n",
    "- True Positive = 51 (diprediksi akan mengikuti (subscribed) dan benar mengikuti (subscribed)) \n",
    "- False Positive = 31  (diprediksi akan mengikuti (subscribed) akan tetapi tidak mengikuti)\n",
    "\n",
    "Dan didapatkan nilai f1-score untuk kelas positif `1` atau `\"yes\"` adalah 0.59."
   ]
  },
  {
   "cell_type": "markdown",
   "metadata": {},
   "source": [
    "# Naive Bayes"
   ]
  },
  {
   "cell_type": "code",
   "execution_count": 51,
   "metadata": {},
   "outputs": [],
   "source": [
    "from sklearn.naive_bayes import GaussianNB\n",
    "from sklearn.model_selection import train_test_split\n",
    "\n",
    "# Split the data into training and testing sets\n",
    "X_train_nb, X_test_nb, y_train_nb, y_test_nb = train_test_split(X, y, test_size=0.2, random_state=42)\n",
    "\n",
    "# Create and train a Gaussian Naive Bayes model\n",
    "nb_model = GaussianNB()\n",
    "nb_model.fit(X_train_nb, y_train_nb)\n",
    "\n",
    "# Make predictions on the test set\n",
    "y_pred_nb = nb_model.predict(X_test_nb)"
   ]
  },
  {
   "cell_type": "code",
   "execution_count": 52,
   "metadata": {},
   "outputs": [
    {
     "name": "stdout",
     "output_type": "stream",
     "text": [
      "Classification Report for Naive Bayes:\n",
      "              precision    recall  f1-score   support\n",
      "\n",
      "           0       0.94      0.89      0.92       732\n",
      "           1       0.40      0.58      0.47        92\n",
      "\n",
      "    accuracy                           0.85       824\n",
      "   macro avg       0.67      0.73      0.69       824\n",
      "weighted avg       0.88      0.85      0.87       824\n",
      "\n",
      "Naive Bayes Model Evaluation:\n",
      "Accuracy: 0.8543689320388349\n",
      "Precision: 0.39552238805970147\n",
      "Recall: 0.5760869565217391\n",
      "F1 Score: 0.4690265486725663\n"
     ]
    },
    {
     "data": {
      "text/plain": [
       "Text(33.22222222222222, 0.5, 'Actual class')"
      ]
     },
     "execution_count": 52,
     "metadata": {},
     "output_type": "execute_result"
    },
    {
     "data": {
      "image/png": "[encoded data removed]",
      "text/plain": [
       "<Figure size 500x400 with 2 Axes>"
      ]
     },
     "metadata": {},
     "output_type": "display_data"
    }
   ],
   "source": [
    "# Evaluate the model\n",
    "print(f\"Classification Report for Naive Bayes:\\n{classification_report(y_test_nb, y_pred_nb)}\")\n",
    "\n",
    "# Display Logistic Regression model evaluation metrics\n",
    "print(\"Naive Bayes Model Evaluation:\")\n",
    "print(f\"Accuracy: {accuracy_score(y_test_nb, y_pred_nb)}\")\n",
    "print(f\"Precision: {precision_score(y_test_nb, y_pred_nb)}\")\n",
    "print(f\"Recall: {recall_score(y_test_nb, y_pred_nb)}\")\n",
    "print(f\"F1 Score: {f1_score(y_test_nb, y_pred_nb)}\")\n",
    "\n",
    "# Confusion matrix\n",
    "conf_matrix = confusion_matrix(y_test_nb, y_pred_nb)\n",
    "\n",
    "plt.figure(figsize=(5,4))\n",
    "sns.heatmap(conf_matrix, annot=True, fmt=\".0f\", cmap=\"PiYG\", annot_kws={\"fontsize\":12})\n",
    "plt.title(\"Naive Bayes\", fontsize=14)\n",
    "plt.xlabel(\"Predicted class\")\n",
    "plt.ylabel(\"Actual class\")"
   ]
  },
  {
   "cell_type": "markdown",
   "metadata": {},
   "source": [
    "Dari heatmap confusion matrix didapatkan:\n",
    "- True Negative = 651 (diprediksi tidak akan mengikuti dan benar tidak mengikuti) \n",
    "- False Negative = 39 (diprediksi tidak akan mengikuti akan tetapi mengikuti (subscribed)) \n",
    "- True Positive = 53 (diprediksi akan mengikuti (subscribed) dan benar mengikuti (subscribed)) \n",
    "- False Positive = 81  (diprediksi akan mengikuti (subscribed) akan tetapi tidak mengikuti)\n",
    "\n",
    "Dan didapatkan nilai f1-score untuk kelas positif `1` atau `\"yes\"` adalah 0.47."
   ]
  },
  {
   "cell_type": "markdown",
   "metadata": {},
   "source": [
    "# Model Selection"
   ]
  },
  {
   "cell_type": "markdown",
   "metadata": {},
   "source": [
    "Pemilihan algoritma berdasarkan:\n",
    "- F1-score adalah rata-rata harmonik antara precision dan recall.\n",
    "- Precision adalah banyak prediksi TP dibagi dengan jumlah dari prediksi positif (TP+FP). Ini mengukur akurasi dari prediksi positif.\n",
    "- Recall adalah banyak dari prediksi TP dibagi dengan jumlah dari positif yang asli (actual) (TP+FN). Ini mengukur kemampuan model untuk menangkap semua kejadian positif.\n",
    "\n",
    "Dengan memaksimalkan F1-score, kita akan menemukan keseimbangan antara meminimalkan FP (precision) dan meminimalkan FN (recall) untuk kelas positif `“yes”`. F1-score yang lebih tinggi menunjukkan trade-off yang lebih baik antara precision dan recall, yang menyiratkan kinerja yang lebih baik dalam meminimalkan kedua jenis kesalahan (False) tersebut.\n",
    "\n",
    "Oleh karena itu, pemilihan algoritma dengan performa terbaik dipilih berdasarkan F1-score yang paling besar nilainya untuk kelas positif `1` atau `\"yes\"`."
   ]
  },
  {
   "cell_type": "markdown",
   "metadata": {},
   "source": [
    "Dari evaluasi di atas didapatkan informasi:\n",
    "- `Logistic Regression`: nilai f1-score untuk kelas positif `1` atau `\"yes\"` adalah 0.55. Dengan FN = 13 dan FP = 118.\n",
    "- `KNN`: nilai f1-score untuk kelas positif `1` atau `\"yes\"` adalah 0.46. Dengan FN = 27 dan FP = 126.\n",
    "- `SVM`: nilai f1-score untuk kelas positif `1` atau `\"yes\"` adalah 0.54. Dengan FN = 14 dan FP = 119.\n",
    "- `Decision Tree`: nilai f1-score untuk kelas positif `1` atau `\"yes\"` adalah 0.55. Dengan FN = 8 dan FP = 128.\n",
    "- `Random Forest`:nilai f1-score untuk kelas positif `1` atau `\"yes\"` adalah 0.59. Dengan FN = 41 dan FP = 31.\n",
    "- `Naive Bayes`: nilai f1-score untuk kelas positif `1` atau `\"yes\"` adalah 0.47. Dengan FN = 39 dan FP = 53.\n",
    "\n",
    "Maka algoritma yang akan dipilih adalah algoritma `Random Forest`"
   ]
  },
  {
   "cell_type": "markdown",
   "metadata": {},
   "source": [
    "# Final Training "
   ]
  },
  {
   "cell_type": "markdown",
   "metadata": {},
   "source": [
    "Setelah algoritma dipilih, akan di-training kembali menggunakan data keseluruhan `bank-additional-full.csv` yang disimpan dalam `df2`"
   ]
  },
  {
   "cell_type": "code",
   "execution_count": 53,
   "metadata": {},
   "outputs": [],
   "source": [
    "from sklearn.ensemble import RandomForestClassifier\n",
    "# X contains features and y contains the target variable\n",
    "X = df1.drop('y', axis=1)\n",
    "y = df1['y']\n",
    "\n",
    "# Split the data into training and testing sets\n",
    "X_train_rf, X_test_rf, y_train_rf, y_test_rf = train_test_split(X, y, test_size=0.2, random_state=42)\n",
    "\n",
    "# Upsample the minority class using RandomOverSampler\n",
    "ros = RandomOverSampler(random_state=42)\n",
    "X_train_rf, y_train_rf = ros.fit_resample(X_train_rf, y_train_rf)\n",
    "\n",
    "# Create a Decision Tree model\n",
    "rf_model = RandomForestClassifier(n_estimators=100, random_state=42)\n",
    "\n",
    "# Train the model on the upsampled training data\n",
    "rf_model.fit(X_train_rf, y_train_rf)\n",
    "\n",
    "# Make predictions on the test set\n",
    "y_pred_rf = rf_model.predict(X_test_rf)"
   ]
  },
  {
   "cell_type": "code",
   "execution_count": 54,
   "metadata": {},
   "outputs": [
    {
     "name": "stdout",
     "output_type": "stream",
     "text": [
      "Classification Report for Random Forest:\n",
      "              precision    recall  f1-score   support\n",
      "\n",
      "           0       0.95      0.95      0.95      7265\n",
      "           1       0.60      0.62      0.61       971\n",
      "\n",
      "    accuracy                           0.91      8236\n",
      "   macro avg       0.78      0.78      0.78      8236\n",
      "weighted avg       0.91      0.91      0.91      8236\n",
      "\n",
      "Random Forest Model Evaluation:\n",
      "Accuracy: 0.9073579407479359\n",
      "Precision: 0.603585657370518\n",
      "Recall: 0.6240988671472708\n",
      "F1 Score: 0.6136708860759493\n"
     ]
    },
    {
     "data": {
      "text/plain": [
       "Text(33.22222222222222, 0.5, 'Actual class')"
      ]
     },
     "execution_count": 54,
     "metadata": {},
     "output_type": "execute_result"
    },
    {
     "data": {
      "image/png": "[encoded data removed]",
      "text/plain": [
       "<Figure size 500x400 with 2 Axes>"
      ]
     },
     "metadata": {},
     "output_type": "display_data"
    }
   ],
   "source": [
    "# Evaluate the model\n",
    "print(f\"Classification Report for Random Forest:\\n{classification_report(y_test_rf, y_pred_rf)}\")\n",
    "\n",
    "# Display Logistic Regression model evaluation metrics\n",
    "print(\"Random Forest Model Evaluation:\")\n",
    "print(f\"Accuracy: {accuracy_score(y_test_rf, y_pred_rf)}\")\n",
    "print(f\"Precision: {precision_score(y_test_rf, y_pred_rf)}\")\n",
    "print(f\"Recall: {recall_score(y_test_rf, y_pred_rf)}\")\n",
    "print(f\"F1 Score: {f1_score(y_test_rf, y_pred_rf)}\")\n",
    "\n",
    "# Confusion matrix\n",
    "conf_matrix = confusion_matrix(y_test_rf, y_pred_rf)\n",
    "\n",
    "plt.figure(figsize=(5,4))\n",
    "sns.heatmap(conf_matrix, annot=True, fmt=\".0f\", cmap=\"PiYG\", annot_kws={\"fontsize\":12})\n",
    "plt.title(\"Random Forest\", fontsize=14)\n",
    "plt.xlabel(\"Predicted class\")\n",
    "plt.ylabel(\"Actual class\")"
   ]
  },
  {
   "cell_type": "markdown",
   "metadata": {},
   "source": [
    "# Conclusion"
   ]
  },
  {
   "cell_type": "markdown",
   "metadata": {},
   "source": [
    "Berdasarkan seluruh rangkaian yang telah dilakukan maka dapat disimpulkan:\n",
    "- Bahwa 11.3% (4639) memilih mengikuti deposito berjangka bank dan 88.7% (36537) lainnya memilih tidak mengikuti.\n",
    "- Usia rata-rata dari nasabah adalah 40.02380 &asymp; 40, dengan usia termuda 17 tahun dan usia tertua 98 tahun.\n",
    "- Pada kelas `no`, rata-rata durasi telepon terakhir dari nasabah yang memilih untuk tidak mengikuti deposito berjangka bank adalah 220.868079 dan pada kelas `yes`, rata-rata durasi telepon terakhir dari nasabah yang memilih untuk mengikuti deposito berjangka bank adalah 553.256090.\n",
    "- Pekerjaan yang paling banyak memilih untuk mengikuti deposito berjangka bank (bank term deposit subscriptions) adalah admin, technician, blue-collar.\n",
    "- Algoritma terbaik dalam kasus ini berdasarkan F1-score untuk kelas positif `1` atau `\"yes\"` adalah algoritma Random Forest dengan nilai 0.61 (dengan keseluruhan data)."
   ]
  }
 ],
 "metadata": {
  "kernelspec": {
   "display_name": "Python 3",
   "language": "python",
   "name": "python3"
  },
  "language_info": {
   "codemirror_mode": {
    "name": "ipython",
    "version": 3
   },
   "file_extension": ".py",
   "mimetype": "text/x-python",
   "name": "python",
   "nbconvert_exporter": "python",
   "pygments_lexer": "ipython3",
   "version": "3.11.4"
  }
 },
 "nbformat": 4,
 "nbformat_minor": 2
}
